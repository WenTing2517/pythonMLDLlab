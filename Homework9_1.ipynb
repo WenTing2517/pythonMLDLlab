{
 "cells": [
  {
   "cell_type": "code",
   "execution_count": 1,
   "metadata": {},
   "outputs": [
    {
     "name": "stdout",
     "output_type": "stream",
     "text": [
      "env: KERAS_BACKEND=tensorflow\n"
     ]
    }
   ],
   "source": [
    "%env KERAS_BACKEND=tensorflow"
   ]
  },
  {
   "cell_type": "code",
   "execution_count": 2,
   "metadata": {},
   "outputs": [],
   "source": [
    "%matplotlib inline\n",
    "\n",
    "import numpy as np\n",
    "import matplotlib.pyplot as plt"
   ]
  },
  {
   "cell_type": "code",
   "execution_count": 3,
   "metadata": {},
   "outputs": [
    {
     "name": "stderr",
     "output_type": "stream",
     "text": [
      "Using TensorFlow backend.\n"
     ]
    }
   ],
   "source": [
    "#input MNIST\n",
    "from keras.datasets import mnist"
   ]
  },
  {
   "cell_type": "code",
   "execution_count": 4,
   "metadata": {},
   "outputs": [],
   "source": [
    "(x_train, y_train), (x_test, y_test) = mnist.load_data()"
   ]
  },
  {
   "cell_type": "markdown",
   "metadata": {},
   "source": [
    "### 輸入格式整理"
   ]
  },
  {
   "cell_type": "code",
   "execution_count": 5,
   "metadata": {},
   "outputs": [],
   "source": [
    "# CNN 要的是 (28,28,1)\n",
    "x_train = x_train.reshape(60000, 28, 28, 1)\n",
    "x_test = x_test.reshape(10000, 28, 28, 1)"
   ]
  },
  {
   "cell_type": "markdown",
   "metadata": {},
   "source": [
    "### 輸出格式整理"
   ]
  },
  {
   "cell_type": "code",
   "execution_count": 6,
   "metadata": {},
   "outputs": [],
   "source": [
    "from keras.utils import np_utils"
   ]
  },
  {
   "cell_type": "code",
   "execution_count": 7,
   "metadata": {},
   "outputs": [],
   "source": [
    "y_train = np_utils.to_categorical(y_train,10)\n",
    "y_test = np_utils.to_categorical(y_test, 10)"
   ]
  },
  {
   "cell_type": "code",
   "execution_count": 8,
   "metadata": {},
   "outputs": [],
   "source": [
    "#normalize\n",
    "x_train = x_train/255\n",
    "x_test = x_test/255"
   ]
  },
  {
   "cell_type": "markdown",
   "metadata": {},
   "source": [
    "### 建立CNN"
   ]
  },
  {
   "cell_type": "code",
   "execution_count": 9,
   "metadata": {},
   "outputs": [],
   "source": [
    "from keras.models import Sequential\n",
    "from keras.layers import Dense, Activation, Flatten\n",
    "from keras.layers import Conv2D, MaxPool2D\n",
    "from keras.optimizers import SGD"
   ]
  },
  {
   "cell_type": "code",
   "execution_count": 10,
   "metadata": {},
   "outputs": [],
   "source": [
    "model_1 = Sequential()"
   ]
  },
  {
   "cell_type": "code",
   "execution_count": 11,
   "metadata": {},
   "outputs": [
    {
     "name": "stdout",
     "output_type": "stream",
     "text": [
      "WARNING:tensorflow:From C:\\Users\\admin\\Anaconda3\\lib\\site-packages\\tensorflow\\python\\framework\\op_def_library.py:263: colocate_with (from tensorflow.python.framework.ops) is deprecated and will be removed in a future version.\n",
      "Instructions for updating:\n",
      "Colocations handled automatically by placer.\n"
     ]
    }
   ],
   "source": [
    "#filter為16, Kernal size 為 5x5, padding為'same', activation為relu\n",
    "model_1.add(Conv2D(16, (5,5), padding='same', input_shape=(28,28,1)))\n",
    "model_1.add(Activation('relu'))"
   ]
  },
  {
   "cell_type": "code",
   "execution_count": 12,
   "metadata": {},
   "outputs": [],
   "source": [
    "#MaxPooling size 為 (2,2)\n",
    "model_1.add(MaxPool2D(pool_size=(2,2)))"
   ]
  },
  {
   "cell_type": "code",
   "execution_count": 14,
   "metadata": {},
   "outputs": [],
   "source": [
    "model_1.add(Conv2D(36, (5,5), padding='same'))\n",
    "model_1.add(Activation('relu'))"
   ]
  },
  {
   "cell_type": "code",
   "execution_count": 15,
   "metadata": {},
   "outputs": [],
   "source": [
    "model_1.add(MaxPool2D(pool_size=(2,2)))"
   ]
  },
  {
   "cell_type": "code",
   "execution_count": 16,
   "metadata": {},
   "outputs": [],
   "source": [
    "model_1.add(Conv2D(49, (5,5), padding='same'))\n",
    "model_1.add(Activation('relu'))"
   ]
  },
  {
   "cell_type": "code",
   "execution_count": 18,
   "metadata": {},
   "outputs": [],
   "source": [
    "model_1.add(MaxPool2D(pool_size=(2,2)))"
   ]
  },
  {
   "cell_type": "code",
   "execution_count": 20,
   "metadata": {},
   "outputs": [],
   "source": [
    "model_1.add(Flatten())\n",
    "model_1.add(Dense(9))\n",
    "model_1.add(Activation('relu'))"
   ]
  },
  {
   "cell_type": "code",
   "execution_count": 21,
   "metadata": {},
   "outputs": [],
   "source": [
    "model_1.add(Dense(10))\n",
    "model_1.add(Activation('softmax'))"
   ]
  },
  {
   "cell_type": "code",
   "execution_count": 23,
   "metadata": {},
   "outputs": [],
   "source": [
    "model_1.compile(loss='categorical_crossentropy', optimizer=SGD(lr=0.07), metrics=['accuracy'])"
   ]
  },
  {
   "cell_type": "code",
   "execution_count": 24,
   "metadata": {},
   "outputs": [
    {
     "name": "stdout",
     "output_type": "stream",
     "text": [
      "_________________________________________________________________\n",
      "Layer (type)                 Output Shape              Param #   \n",
      "=================================================================\n",
      "conv2d_1 (Conv2D)            (None, 28, 28, 16)        416       \n",
      "_________________________________________________________________\n",
      "activation_1 (Activation)    (None, 28, 28, 16)        0         \n",
      "_________________________________________________________________\n",
      "max_pooling2d_1 (MaxPooling2 (None, 14, 14, 16)        0         \n",
      "_________________________________________________________________\n",
      "conv2d_2 (Conv2D)            (None, 14, 14, 36)        14436     \n",
      "_________________________________________________________________\n",
      "activation_2 (Activation)    (None, 14, 14, 36)        0         \n",
      "_________________________________________________________________\n",
      "max_pooling2d_2 (MaxPooling2 (None, 7, 7, 36)          0         \n",
      "_________________________________________________________________\n",
      "conv2d_3 (Conv2D)            (None, 7, 7, 49)          44149     \n",
      "_________________________________________________________________\n",
      "activation_3 (Activation)    (None, 7, 7, 49)          0         \n",
      "_________________________________________________________________\n",
      "max_pooling2d_3 (MaxPooling2 (None, 3, 3, 49)          0         \n",
      "_________________________________________________________________\n",
      "flatten_1 (Flatten)          (None, 441)               0         \n",
      "_________________________________________________________________\n",
      "dense_1 (Dense)              (None, 9)                 3978      \n",
      "_________________________________________________________________\n",
      "activation_4 (Activation)    (None, 9)                 0         \n",
      "_________________________________________________________________\n",
      "dense_2 (Dense)              (None, 10)                100       \n",
      "_________________________________________________________________\n",
      "activation_5 (Activation)    (None, 10)                0         \n",
      "=================================================================\n",
      "Total params: 63,079\n",
      "Trainable params: 63,079\n",
      "Non-trainable params: 0\n",
      "_________________________________________________________________\n"
     ]
    }
   ],
   "source": [
    "model_1.summary()"
   ]
  },
  {
   "cell_type": "code",
   "execution_count": 25,
   "metadata": {},
   "outputs": [
    {
     "name": "stdout",
     "output_type": "stream",
     "text": [
      "WARNING:tensorflow:From C:\\Users\\admin\\Anaconda3\\lib\\site-packages\\tensorflow\\python\\ops\\math_ops.py:3066: to_int32 (from tensorflow.python.ops.math_ops) is deprecated and will be removed in a future version.\n",
      "Instructions for updating:\n",
      "Use tf.cast instead.\n",
      "Epoch 1/10\n",
      "60000/60000 [==============================] - 78s 1ms/step - loss: 0.4793 - acc: 0.8389\n",
      "Epoch 2/10\n",
      "60000/60000 [==============================] - 78s 1ms/step - loss: 0.0871 - acc: 0.9727\n",
      "Epoch 3/10\n",
      "60000/60000 [==============================] - 77s 1ms/step - loss: 0.0571 - acc: 0.9824\n",
      "Epoch 4/10\n",
      "60000/60000 [==============================] - 77s 1ms/step - loss: 0.0449 - acc: 0.9859\n",
      "Epoch 5/10\n",
      "60000/60000 [==============================] - 76s 1ms/step - loss: 0.0354 - acc: 0.9889\n",
      "Epoch 6/10\n",
      "60000/60000 [==============================] - 76s 1ms/step - loss: 0.0292 - acc: 0.9911\n",
      "Epoch 7/10\n",
      "60000/60000 [==============================] - 77s 1ms/step - loss: 0.0241 - acc: 0.9926\n",
      "Epoch 8/10\n",
      "60000/60000 [==============================] - 80s 1ms/step - loss: 0.0209 - acc: 0.9936\n",
      "Epoch 9/10\n",
      "60000/60000 [==============================] - 78s 1ms/step - loss: 0.0178 - acc: 0.9943\n",
      "Epoch 10/10\n",
      "60000/60000 [==============================] - 78s 1ms/step - loss: 0.0152 - acc: 0.9953\n"
     ]
    },
    {
     "data": {
      "text/plain": [
       "<keras.callbacks.History at 0x1ce7cb31320>"
      ]
     },
     "execution_count": 25,
     "metadata": {},
     "output_type": "execute_result"
    }
   ],
   "source": [
    "model_1.fit(x_train, y_train, batch_size=100, epochs=10)"
   ]
  },
  {
   "cell_type": "code",
   "execution_count": 26,
   "metadata": {},
   "outputs": [
    {
     "name": "stdout",
     "output_type": "stream",
     "text": [
      "10000/10000 [==============================] - 5s 534us/step\n",
      "loss: 0.03142442755378943\n",
      "accuracy: 0.9902\n"
     ]
    }
   ],
   "source": [
    "score = model_1.evaluate(x_test, y_test)\n",
    "print('loss:', score[0])\n",
    "print('accuracy:', score[1])"
   ]
  },
  {
   "cell_type": "code",
   "execution_count": 11,
   "metadata": {},
   "outputs": [],
   "source": [
    "model_2 = Sequential()"
   ]
  },
  {
   "cell_type": "code",
   "execution_count": 21,
   "metadata": {},
   "outputs": [],
   "source": [
    "#filter為16, Kernal size 為 5x5, padding為'same', activation為relu\n",
    "model_2.add(Conv2D(16, (5,5), padding='same', input_shape=(28,28,1)))\n",
    "model_2.add(Activation('relu'))"
   ]
  },
  {
   "cell_type": "code",
   "execution_count": 22,
   "metadata": {},
   "outputs": [],
   "source": [
    "#MaxPooling size 為 (3,3)\n",
    "model_2.add(MaxPool2D(pool_size=(3,3)))"
   ]
  },
  {
   "cell_type": "code",
   "execution_count": 23,
   "metadata": {},
   "outputs": [],
   "source": [
    "model_2.add(Conv2D(36, (5,5), padding='same'))\n",
    "model_2.add(Activation('relu'))"
   ]
  },
  {
   "cell_type": "code",
   "execution_count": 24,
   "metadata": {},
   "outputs": [],
   "source": [
    "model_2.add(MaxPool2D(pool_size=(3,3)))"
   ]
  },
  {
   "cell_type": "code",
   "execution_count": 25,
   "metadata": {},
   "outputs": [],
   "source": [
    "model_2.add(Conv2D(49, (5,5), padding='same'))\n",
    "model_1.add(Activation('relu'))"
   ]
  },
  {
   "cell_type": "code",
   "execution_count": 26,
   "metadata": {},
   "outputs": [],
   "source": [
    "model_2.add(MaxPool2D(pool_size=(3,3)))"
   ]
  },
  {
   "cell_type": "code",
   "execution_count": 27,
   "metadata": {},
   "outputs": [],
   "source": [
    "model_2.add(Flatten())\n",
    "model_2.add(Dense(9))\n",
    "model_2.add(Activation('relu'))"
   ]
  },
  {
   "cell_type": "code",
   "execution_count": 28,
   "metadata": {},
   "outputs": [],
   "source": [
    "model_2.add(Dense(10))\n",
    "model_2.add(Activation('softmax'))"
   ]
  },
  {
   "cell_type": "code",
   "execution_count": 29,
   "metadata": {},
   "outputs": [],
   "source": [
    "model_2.compile(loss='categorical_crossentropy', optimizer=SGD(lr=0.07), metrics=['accuracy'])"
   ]
  },
  {
   "cell_type": "code",
   "execution_count": 30,
   "metadata": {},
   "outputs": [
    {
     "name": "stdout",
     "output_type": "stream",
     "text": [
      "_________________________________________________________________\n",
      "Layer (type)                 Output Shape              Param #   \n",
      "=================================================================\n",
      "conv2d_4 (Conv2D)            (None, 28, 28, 16)        416       \n",
      "_________________________________________________________________\n",
      "activation_6 (Activation)    (None, 28, 28, 16)        0         \n",
      "_________________________________________________________________\n",
      "max_pooling2d_4 (MaxPooling2 (None, 9, 9, 16)          0         \n",
      "_________________________________________________________________\n",
      "conv2d_5 (Conv2D)            (None, 9, 9, 36)          14436     \n",
      "_________________________________________________________________\n",
      "activation_7 (Activation)    (None, 9, 9, 36)          0         \n",
      "_________________________________________________________________\n",
      "max_pooling2d_5 (MaxPooling2 (None, 3, 3, 36)          0         \n",
      "_________________________________________________________________\n",
      "conv2d_6 (Conv2D)            (None, 3, 3, 49)          44149     \n",
      "_________________________________________________________________\n",
      "max_pooling2d_6 (MaxPooling2 (None, 1, 1, 49)          0         \n",
      "_________________________________________________________________\n",
      "flatten_2 (Flatten)          (None, 49)                0         \n",
      "_________________________________________________________________\n",
      "dense_3 (Dense)              (None, 9)                 450       \n",
      "_________________________________________________________________\n",
      "activation_9 (Activation)    (None, 9)                 0         \n",
      "_________________________________________________________________\n",
      "dense_4 (Dense)              (None, 10)                100       \n",
      "_________________________________________________________________\n",
      "activation_10 (Activation)   (None, 10)                0         \n",
      "=================================================================\n",
      "Total params: 59,551\n",
      "Trainable params: 59,551\n",
      "Non-trainable params: 0\n",
      "_________________________________________________________________\n"
     ]
    }
   ],
   "source": [
    "model_2.summary()"
   ]
  },
  {
   "cell_type": "code",
   "execution_count": 31,
   "metadata": {},
   "outputs": [
    {
     "name": "stdout",
     "output_type": "stream",
     "text": [
      "WARNING:tensorflow:From C:\\Users\\admin\\Anaconda3\\lib\\site-packages\\tensorflow\\python\\ops\\math_ops.py:3066: to_int32 (from tensorflow.python.ops.math_ops) is deprecated and will be removed in a future version.\n",
      "Instructions for updating:\n",
      "Use tf.cast instead.\n",
      "Epoch 1/10\n",
      "60000/60000 [==============================] - 43s 722us/step - loss: 0.6523 - acc: 0.7855\n",
      "Epoch 2/10\n",
      "60000/60000 [==============================] - 43s 710us/step - loss: 0.1032 - acc: 0.9693\n",
      "Epoch 3/10\n",
      "60000/60000 [==============================] - 44s 727us/step - loss: 0.0681 - acc: 0.9787\n",
      "Epoch 4/10\n",
      "60000/60000 [==============================] - 42s 708us/step - loss: 0.0515 - acc: 0.9840\n",
      "Epoch 5/10\n",
      "60000/60000 [==============================] - 43s 715us/step - loss: 0.0410 - acc: 0.9875\n",
      "Epoch 6/10\n",
      "60000/60000 [==============================] - 43s 712us/step - loss: 0.0344 - acc: 0.9887\n",
      "Epoch 7/10\n",
      "60000/60000 [==============================] - 43s 725us/step - loss: 0.0284 - acc: 0.9906\n",
      "Epoch 8/10\n",
      "60000/60000 [==============================] - 43s 720us/step - loss: 0.0254 - acc: 0.9921\n",
      "Epoch 9/10\n",
      "60000/60000 [==============================] - 42s 706us/step - loss: 0.0209 - acc: 0.9934\n",
      "Epoch 10/10\n",
      "60000/60000 [==============================] - 39s 653us/step - loss: 0.0186 - acc: 0.9940\n"
     ]
    },
    {
     "data": {
      "text/plain": [
       "<keras.callbacks.History at 0x1f3fc065080>"
      ]
     },
     "execution_count": 31,
     "metadata": {},
     "output_type": "execute_result"
    }
   ],
   "source": [
    "model_2.fit(x_train, y_train, batch_size=100, epochs=10)"
   ]
  },
  {
   "cell_type": "code",
   "execution_count": 32,
   "metadata": {},
   "outputs": [
    {
     "name": "stdout",
     "output_type": "stream",
     "text": [
      "10000/10000 [==============================] - 3s 335us/step\n",
      "loss: 0.03691538950659451\n",
      "accuracy: 0.9885\n"
     ]
    }
   ],
   "source": [
    "score = model_2.evaluate(x_test, y_test)\n",
    "print('loss:', score[0])\n",
    "print('accuracy:', score[1])"
   ]
  },
  {
   "cell_type": "code",
   "execution_count": 33,
   "metadata": {},
   "outputs": [],
   "source": [
    "model_3 = Sequential()"
   ]
  },
  {
   "cell_type": "code",
   "execution_count": 35,
   "metadata": {},
   "outputs": [],
   "source": [
    "#filter為16, Kernal size 為 5x5, padding為'same', activation為relu\n",
    "model_3.add(Conv2D(16, (5,5), padding='same', input_shape=(28,28,1)))\n",
    "model_3.add(Activation('relu'))"
   ]
  },
  {
   "cell_type": "code",
   "execution_count": 36,
   "metadata": {},
   "outputs": [],
   "source": [
    "#MaxPooling size 為 (2,2)\n",
    "model_3.add(MaxPool2D(pool_size=(2,2)))"
   ]
  },
  {
   "cell_type": "code",
   "execution_count": 37,
   "metadata": {},
   "outputs": [],
   "source": [
    "model_3.add(Conv2D(36, (5,5), padding='same'))\n",
    "model_3.add(Activation('relu'))"
   ]
  },
  {
   "cell_type": "code",
   "execution_count": 38,
   "metadata": {},
   "outputs": [],
   "source": [
    "model_3.add(MaxPool2D(pool_size=(2,2)))"
   ]
  },
  {
   "cell_type": "code",
   "execution_count": 39,
   "metadata": {},
   "outputs": [],
   "source": [
    "model_3.add(Conv2D(49, (5,5), padding='same'))\n",
    "model_3.add(Activation('relu'))"
   ]
  },
  {
   "cell_type": "code",
   "execution_count": 40,
   "metadata": {},
   "outputs": [],
   "source": [
    "model_3.add(MaxPool2D(pool_size=(2,2)))"
   ]
  },
  {
   "cell_type": "code",
   "execution_count": 41,
   "metadata": {},
   "outputs": [],
   "source": [
    "model_3.add(Flatten())\n",
    "model_3.add(Dense(9))\n",
    "model_3.add(Activation('relu'))"
   ]
  },
  {
   "cell_type": "code",
   "execution_count": 42,
   "metadata": {},
   "outputs": [],
   "source": [
    "model_3.add(Dense(10))\n",
    "model_3.add(Activation('softmax'))"
   ]
  },
  {
   "cell_type": "code",
   "execution_count": 44,
   "metadata": {},
   "outputs": [],
   "source": [
    "model_3.compile(loss='categorical_crossentropy', optimizer='adam', metrics=['accuracy'])"
   ]
  },
  {
   "cell_type": "code",
   "execution_count": 45,
   "metadata": {},
   "outputs": [
    {
     "name": "stdout",
     "output_type": "stream",
     "text": [
      "_________________________________________________________________\n",
      "Layer (type)                 Output Shape              Param #   \n",
      "=================================================================\n",
      "conv2d_8 (Conv2D)            (None, 28, 28, 16)        416       \n",
      "_________________________________________________________________\n",
      "activation_11 (Activation)   (None, 28, 28, 16)        0         \n",
      "_________________________________________________________________\n",
      "max_pooling2d_7 (MaxPooling2 (None, 14, 14, 16)        0         \n",
      "_________________________________________________________________\n",
      "conv2d_9 (Conv2D)            (None, 14, 14, 36)        14436     \n",
      "_________________________________________________________________\n",
      "activation_12 (Activation)   (None, 14, 14, 36)        0         \n",
      "_________________________________________________________________\n",
      "max_pooling2d_8 (MaxPooling2 (None, 7, 7, 36)          0         \n",
      "_________________________________________________________________\n",
      "conv2d_10 (Conv2D)           (None, 7, 7, 49)          44149     \n",
      "_________________________________________________________________\n",
      "activation_13 (Activation)   (None, 7, 7, 49)          0         \n",
      "_________________________________________________________________\n",
      "max_pooling2d_9 (MaxPooling2 (None, 3, 3, 49)          0         \n",
      "_________________________________________________________________\n",
      "flatten_3 (Flatten)          (None, 441)               0         \n",
      "_________________________________________________________________\n",
      "dense_5 (Dense)              (None, 9)                 3978      \n",
      "_________________________________________________________________\n",
      "activation_14 (Activation)   (None, 9)                 0         \n",
      "_________________________________________________________________\n",
      "dense_6 (Dense)              (None, 10)                100       \n",
      "_________________________________________________________________\n",
      "activation_15 (Activation)   (None, 10)                0         \n",
      "=================================================================\n",
      "Total params: 63,079\n",
      "Trainable params: 63,079\n",
      "Non-trainable params: 0\n",
      "_________________________________________________________________\n"
     ]
    }
   ],
   "source": [
    "model_3.summary()"
   ]
  },
  {
   "cell_type": "code",
   "execution_count": 46,
   "metadata": {},
   "outputs": [
    {
     "name": "stdout",
     "output_type": "stream",
     "text": [
      "Epoch 1/10\n",
      "60000/60000 [==============================] - 82s 1ms/step - loss: 0.3377 - acc: 0.8961\n",
      "Epoch 2/10\n",
      "60000/60000 [==============================] - 82s 1ms/step - loss: 0.0785 - acc: 0.9765\n",
      "Epoch 3/10\n",
      "60000/60000 [==============================] - 81s 1ms/step - loss: 0.0511 - acc: 0.9847\n",
      "Epoch 4/10\n",
      "60000/60000 [==============================] - 81s 1ms/step - loss: 0.0389 - acc: 0.9888\n",
      "Epoch 5/10\n",
      "60000/60000 [==============================] - 82s 1ms/step - loss: 0.0306 - acc: 0.9911\n",
      "Epoch 6/10\n",
      "60000/60000 [==============================] - 82s 1ms/step - loss: 0.0248 - acc: 0.9922\n",
      "Epoch 7/10\n",
      "60000/60000 [==============================] - 81s 1ms/step - loss: 0.0202 - acc: 0.9934\n",
      "Epoch 8/10\n",
      "60000/60000 [==============================] - 82s 1ms/step - loss: 0.0171 - acc: 0.9944\n",
      "Epoch 9/10\n",
      "60000/60000 [==============================] - 82s 1ms/step - loss: 0.0144 - acc: 0.9953\n",
      "Epoch 10/10\n",
      "60000/60000 [==============================] - 79s 1ms/step - loss: 0.0121 - acc: 0.9960\n"
     ]
    },
    {
     "data": {
      "text/plain": [
       "<keras.callbacks.History at 0x1f39a470cf8>"
      ]
     },
     "execution_count": 46,
     "metadata": {},
     "output_type": "execute_result"
    }
   ],
   "source": [
    "model_3.fit(x_train, y_train, batch_size=100, epochs=10)"
   ]
  },
  {
   "cell_type": "code",
   "execution_count": 47,
   "metadata": {},
   "outputs": [
    {
     "name": "stdout",
     "output_type": "stream",
     "text": [
      "10000/10000 [==============================] - 5s 539us/step\n",
      "loss: 0.03594355874414068\n",
      "accuracy: 0.9901\n"
     ]
    }
   ],
   "source": [
    "score = model_3.evaluate(x_test, y_test)\n",
    "print('loss:', score[0])\n",
    "print('accuracy:', score[1])"
   ]
  },
  {
   "cell_type": "markdown",
   "metadata": {},
   "source": [
    "### 小結"
   ]
  },
  {
   "cell_type": "markdown",
   "metadata": {},
   "source": [
    "* 延續課堂上的例子，model_1 將filter的大小加大，testing accuracy 從0.86上升到0.99\n",
    "* model_2 則是延續 model_1，增加 max pooling 的大小，testing accuracy 反而下降成0.98\n",
    "* 最後一個 model_3 則是延續 model_1 只是改變 optimizer 為 adam，testing accuracy 沒有變"
   ]
  }
 ],
 "metadata": {
  "kernelspec": {
   "display_name": "Python 3",
   "language": "python",
   "name": "python3"
  },
  "language_info": {
   "codemirror_mode": {
    "name": "ipython",
    "version": 3
   },
   "file_extension": ".py",
   "mimetype": "text/x-python",
   "name": "python",
   "nbconvert_exporter": "python",
   "pygments_lexer": "ipython3",
   "version": "3.6.5"
  }
 },
 "nbformat": 4,
 "nbformat_minor": 2
}

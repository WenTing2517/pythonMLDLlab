{
 "cells": [
  {
   "cell_type": "markdown",
   "metadata": {},
   "source": [
    "# MNIST 手寫數字辨識數據_訓練NN\n",
    "### 目標: 準確率0.9以上"
   ]
  },
  {
   "cell_type": "code",
   "execution_count": 1,
   "metadata": {},
   "outputs": [],
   "source": [
    "% matplotlib inline\n",
    "import numpy as np\n",
    "import matplotlib.pyplot as plt\n"
   ]
  },
  {
   "cell_type": "code",
   "execution_count": 2,
   "metadata": {},
   "outputs": [
    {
     "name": "stderr",
     "output_type": "stream",
     "text": [
      "Using TensorFlow backend.\n"
     ]
    }
   ],
   "source": [
    "#由Keras 讀入 MNIST\n",
    "from keras.datasets import mnist"
   ]
  },
  {
   "cell_type": "code",
   "execution_count": 3,
   "metadata": {},
   "outputs": [],
   "source": [
    "(x_train, y_train), (x_test, y_test) = mnist.load_data()"
   ]
  },
  {
   "cell_type": "code",
   "execution_count": 4,
   "metadata": {},
   "outputs": [],
   "source": [
    "#輸入格式整理\n",
    "#標準神經網路不能吃矩陣，所以要將array拉長\n",
    "x_train = x_train.reshape(60000, 784)\n",
    "x_test = x_test.reshape(10000, 784)"
   ]
  },
  {
   "cell_type": "code",
   "execution_count": 5,
   "metadata": {},
   "outputs": [],
   "source": [
    "#輸出格式整理\n",
    "from keras.utils import np_utils\n",
    "y_train = np_utils.to_categorical(y_train, 10)\n",
    "y_test = np_utils.to_categorical(y_test, 10)"
   ]
  },
  {
   "cell_type": "code",
   "execution_count": 6,
   "metadata": {},
   "outputs": [],
   "source": [
    "#標準化資料\n",
    "x_train_1 = (x_train - x_train.min())/(x_train.max() - x_train.min())\n",
    "x_test_1 = (x_test - x_test.min())/(x_test.max() - x_test.min())"
   ]
  },
  {
   "cell_type": "code",
   "execution_count": 7,
   "metadata": {},
   "outputs": [],
   "source": [
    "#建構神經網路\n",
    "from keras.models import Sequential\n",
    "from keras.layers import Dense, Activation\n",
    "from keras.optimizers import SGD"
   ]
  },
  {
   "cell_type": "markdown",
   "metadata": {},
   "source": [
    "## 比較方式\n",
    "* 因為之前有聽過介紹NN的演講，隱藏層的active function:sigmoid、tanh、relu中，relu是比較好的，所以這裡只先單純比較輸出層的active function哪一種表現比較好 \n",
    "* input layer 神經元輸入個數:784，輸出個數：4\n",
    "* second layer 神經元輸入個數:4，輸出個數: 2\n",
    "* output layer 神經元輸入個數:2，輸出個數：10\n",
    "* optimizer 是採用'adam'，直接用 keras 裡 adam 參數的預設值(lr=0.001, beta_1=0.9, beta_2=0.999, epsilon=None, decay=0.0, amsgrad=False)\n",
    "* loss function 是採用 mse 的方式"
   ]
  },
  {
   "cell_type": "code",
   "execution_count": 8,
   "metadata": {},
   "outputs": [
    {
     "name": "stdout",
     "output_type": "stream",
     "text": [
      "WARNING:tensorflow:From C:\\Users\\admin\\Anaconda3\\lib\\site-packages\\tensorflow\\python\\framework\\op_def_library.py:263: colocate_with (from tensorflow.python.framework.ops) is deprecated and will be removed in a future version.\n",
      "Instructions for updating:\n",
      "Colocations handled automatically by placer.\n"
     ]
    }
   ],
   "source": [
    "# model_1 : relu + softmax + Adam\n",
    "model_1 = Sequential()\n",
    "model_1.add(Dense(4, input_dim=784))\n",
    "model_1.add(Activation('relu'))\n",
    "model_1.add(Dense(2))\n",
    "model_1.add(Activation('relu'))\n",
    "model_1.add(Dense(10))\n",
    "model_1.add(Activation('softmax'))\n",
    "model_1.compile(loss='mse', optimizer = 'adam', metrics = ['accuracy'])"
   ]
  },
  {
   "cell_type": "code",
   "execution_count": 9,
   "metadata": {},
   "outputs": [
    {
     "name": "stdout",
     "output_type": "stream",
     "text": [
      "WARNING:tensorflow:From C:\\Users\\admin\\Anaconda3\\lib\\site-packages\\tensorflow\\python\\ops\\math_ops.py:3066: to_int32 (from tensorflow.python.ops.math_ops) is deprecated and will be removed in a future version.\n",
      "Instructions for updating:\n",
      "Use tf.cast instead.\n",
      "Train on 60000 samples, validate on 10000 samples\n",
      "Epoch 1/20\n",
      "60000/60000 [==============================] - 3s 53us/step - loss: 0.0824 - acc: 0.2110 - val_loss: 0.0802 - val_acc: 0.2404\n",
      "Epoch 2/20\n",
      "60000/60000 [==============================] - 2s 31us/step - loss: 0.0790 - acc: 0.2581 - val_loss: 0.0783 - val_acc: 0.2811\n",
      "Epoch 3/20\n",
      "60000/60000 [==============================] - 2s 29us/step - loss: 0.0776 - acc: 0.2826 - val_loss: 0.0772 - val_acc: 0.2970\n",
      "Epoch 4/20\n",
      "60000/60000 [==============================] - 2s 31us/step - loss: 0.0767 - acc: 0.2971 - val_loss: 0.0767 - val_acc: 0.2917\n",
      "Epoch 5/20\n",
      "60000/60000 [==============================] - 2s 29us/step - loss: 0.0760 - acc: 0.3053 - val_loss: 0.0761 - val_acc: 0.3078\n",
      "Epoch 6/20\n",
      "60000/60000 [==============================] - 2s 30us/step - loss: 0.0756 - acc: 0.3118 - val_loss: 0.0756 - val_acc: 0.3144\n",
      "Epoch 7/20\n",
      "60000/60000 [==============================] - 2s 31us/step - loss: 0.0752 - acc: 0.3167 - val_loss: 0.0753 - val_acc: 0.3143\n",
      "Epoch 8/20\n",
      "60000/60000 [==============================] - 2s 31us/step - loss: 0.0748 - acc: 0.3197 - val_loss: 0.0750 - val_acc: 0.3257\n",
      "Epoch 9/20\n",
      "60000/60000 [==============================] - 2s 30us/step - loss: 0.0746 - acc: 0.3231 - val_loss: 0.0747 - val_acc: 0.3227\n",
      "Epoch 10/20\n",
      "60000/60000 [==============================] - 2s 30us/step - loss: 0.0743 - acc: 0.3244 - val_loss: 0.0745 - val_acc: 0.3267\n",
      "Epoch 11/20\n",
      "60000/60000 [==============================] - 2s 31us/step - loss: 0.0742 - acc: 0.3270 - val_loss: 0.0743 - val_acc: 0.3293\n",
      "Epoch 12/20\n",
      "60000/60000 [==============================] - 2s 30us/step - loss: 0.0739 - acc: 0.3269 - val_loss: 0.0744 - val_acc: 0.3275\n",
      "Epoch 13/20\n",
      "60000/60000 [==============================] - 2s 30us/step - loss: 0.0738 - acc: 0.3280 - val_loss: 0.0744 - val_acc: 0.3234\n",
      "Epoch 14/20\n",
      "60000/60000 [==============================] - 2s 27us/step - loss: 0.0737 - acc: 0.3293 - val_loss: 0.0741 - val_acc: 0.3279\n",
      "Epoch 15/20\n",
      "60000/60000 [==============================] - 2s 31us/step - loss: 0.0735 - acc: 0.3309 - val_loss: 0.0739 - val_acc: 0.3315\n",
      "Epoch 16/20\n",
      "60000/60000 [==============================] - 2s 31us/step - loss: 0.0734 - acc: 0.3317 - val_loss: 0.0738 - val_acc: 0.3330\n",
      "Epoch 17/20\n",
      "60000/60000 [==============================] - 2s 30us/step - loss: 0.0733 - acc: 0.3322 - val_loss: 0.0737 - val_acc: 0.3297\n",
      "Epoch 18/20\n",
      "60000/60000 [==============================] - 2s 29us/step - loss: 0.0732 - acc: 0.3322 - val_loss: 0.0737 - val_acc: 0.3331\n",
      "Epoch 19/20\n",
      "60000/60000 [==============================] - 2s 29us/step - loss: 0.0731 - acc: 0.3326 - val_loss: 0.0736 - val_acc: 0.3331\n",
      "Epoch 20/20\n",
      "60000/60000 [==============================] - 2s 31us/step - loss: 0.0731 - acc: 0.3329 - val_loss: 0.0734 - val_acc: 0.3336\n"
     ]
    }
   ],
   "source": [
    "model_1_20 = model_1.fit(x_train_1, y_train, batch_size = 100,\n",
    "                        epochs = 20, verbose = 1,\n",
    "                         validation_data = (x_test_1, y_test))"
   ]
  },
  {
   "cell_type": "code",
   "execution_count": 10,
   "metadata": {},
   "outputs": [],
   "source": [
    "# model_2 : relu + elu\n",
    "model_2 = Sequential()\n",
    "model_2.add(Dense(4, input_dim=784))\n",
    "model_2.add(Activation('relu'))\n",
    "model_2.add(Dense(2))\n",
    "model_2.add(Activation('relu'))\n",
    "model_2.add(Dense(10))\n",
    "model_2.add(Activation('elu'))\n",
    "model_2.compile(loss='mse', optimizer = 'adam', metrics = ['accuracy'])"
   ]
  },
  {
   "cell_type": "code",
   "execution_count": 11,
   "metadata": {},
   "outputs": [
    {
     "name": "stdout",
     "output_type": "stream",
     "text": [
      "Train on 60000 samples, validate on 10000 samples\n",
      "Epoch 1/20\n",
      "60000/60000 [==============================] - 3s 45us/step - loss: 0.0800 - acc: 0.2698 - val_loss: 0.0729 - val_acc: 0.3060\n",
      "Epoch 2/20\n",
      "60000/60000 [==============================] - 2s 29us/step - loss: 0.0719 - acc: 0.3227 - val_loss: 0.0712 - val_acc: 0.3077\n",
      "Epoch 3/20\n",
      "60000/60000 [==============================] - 2s 30us/step - loss: 0.0711 - acc: 0.3131 - val_loss: 0.0709 - val_acc: 0.3145\n",
      "Epoch 4/20\n",
      "60000/60000 [==============================] - 2s 30us/step - loss: 0.0708 - acc: 0.3109 - val_loss: 0.0706 - val_acc: 0.3095\n",
      "Epoch 5/20\n",
      "60000/60000 [==============================] - 2s 30us/step - loss: 0.0706 - acc: 0.3105 - val_loss: 0.0705 - val_acc: 0.3095\n",
      "Epoch 6/20\n",
      "60000/60000 [==============================] - 2s 28us/step - loss: 0.0705 - acc: 0.3108 - val_loss: 0.0705 - val_acc: 0.3086\n",
      "Epoch 7/20\n",
      "60000/60000 [==============================] - 2s 27us/step - loss: 0.0705 - acc: 0.3086 - val_loss: 0.0704 - val_acc: 0.3070\n",
      "Epoch 8/20\n",
      "60000/60000 [==============================] - 2s 29us/step - loss: 0.0704 - acc: 0.3102 - val_loss: 0.0705 - val_acc: 0.3100\n",
      "Epoch 9/20\n",
      "60000/60000 [==============================] - 2s 29us/step - loss: 0.0704 - acc: 0.3114 - val_loss: 0.0704 - val_acc: 0.3093\n",
      "Epoch 10/20\n",
      "60000/60000 [==============================] - 2s 30us/step - loss: 0.0704 - acc: 0.3100 - val_loss: 0.0705 - val_acc: 0.3101\n",
      "Epoch 11/20\n",
      "60000/60000 [==============================] - 2s 26us/step - loss: 0.0703 - acc: 0.3106 - val_loss: 0.0704 - val_acc: 0.3099\n",
      "Epoch 12/20\n",
      "60000/60000 [==============================] - 2s 25us/step - loss: 0.0703 - acc: 0.3099 - val_loss: 0.0704 - val_acc: 0.3086\n",
      "Epoch 13/20\n",
      "60000/60000 [==============================] - 2s 28us/step - loss: 0.0703 - acc: 0.3098 - val_loss: 0.0704 - val_acc: 0.3090\n",
      "Epoch 14/20\n",
      "60000/60000 [==============================] - 2s 29us/step - loss: 0.0703 - acc: 0.3098 - val_loss: 0.0704 - val_acc: 0.3087\n",
      "Epoch 15/20\n",
      "60000/60000 [==============================] - 2s 30us/step - loss: 0.0703 - acc: 0.3102 - val_loss: 0.0704 - val_acc: 0.3069\n",
      "Epoch 16/20\n",
      "60000/60000 [==============================] - 2s 30us/step - loss: 0.0703 - acc: 0.3081 - val_loss: 0.0704 - val_acc: 0.3054\n",
      "Epoch 17/20\n",
      "60000/60000 [==============================] - 2s 29us/step - loss: 0.0703 - acc: 0.3112 - val_loss: 0.0704 - val_acc: 0.3054\n",
      "Epoch 18/20\n",
      "60000/60000 [==============================] - 2s 28us/step - loss: 0.0703 - acc: 0.3108 - val_loss: 0.0704 - val_acc: 0.3086\n",
      "Epoch 19/20\n",
      "60000/60000 [==============================] - 2s 28us/step - loss: 0.0703 - acc: 0.3117 - val_loss: 0.0704 - val_acc: 0.3088\n",
      "Epoch 20/20\n",
      "60000/60000 [==============================] - 2s 29us/step - loss: 0.0703 - acc: 0.3127 - val_loss: 0.0704 - val_acc: 0.3089\n"
     ]
    }
   ],
   "source": [
    "model_2_20 = model_2.fit(x_train_1, y_train, batch_size = 100,\n",
    "                        epochs = 20, verbose = 1,\n",
    "                         validation_data = (x_test_1, y_test))"
   ]
  },
  {
   "cell_type": "code",
   "execution_count": 12,
   "metadata": {},
   "outputs": [],
   "source": [
    "# model_3 : relu + selu\n",
    "model_3 = Sequential()\n",
    "model_3.add(Dense(4, input_dim=784))\n",
    "model_3.add(Activation('relu'))\n",
    "model_3.add(Dense(2))\n",
    "model_3.add(Activation('relu'))\n",
    "model_3.add(Dense(10))\n",
    "model_3.add(Activation('selu'))\n",
    "model_3.compile(loss='mse', optimizer = 'adam', metrics = ['accuracy'])"
   ]
  },
  {
   "cell_type": "code",
   "execution_count": 13,
   "metadata": {},
   "outputs": [
    {
     "name": "stdout",
     "output_type": "stream",
     "text": [
      "Train on 60000 samples, validate on 10000 samples\n",
      "Epoch 1/20\n",
      "60000/60000 [==============================] - 3s 49us/step - loss: 0.0907 - acc: 0.1082 - val_loss: 0.0900 - val_acc: 0.1028\n",
      "Epoch 2/20\n",
      "60000/60000 [==============================] - 2s 32us/step - loss: 0.0900 - acc: 0.1114 - val_loss: 0.0900 - val_acc: 0.1135\n",
      "Epoch 3/20\n",
      "60000/60000 [==============================] - 2s 30us/step - loss: 0.0900 - acc: 0.1107 - val_loss: 0.0900 - val_acc: 0.1135\n",
      "Epoch 4/20\n",
      "60000/60000 [==============================] - 2s 30us/step - loss: 0.0900 - acc: 0.1099 - val_loss: 0.0900 - val_acc: 0.1135\n",
      "Epoch 5/20\n",
      "60000/60000 [==============================] - 2s 30us/step - loss: 0.0900 - acc: 0.1122 - val_loss: 0.0900 - val_acc: 0.1135\n",
      "Epoch 6/20\n",
      "60000/60000 [==============================] - 2s 31us/step - loss: 0.0900 - acc: 0.1109 - val_loss: 0.0900 - val_acc: 0.1135\n",
      "Epoch 7/20\n",
      "60000/60000 [==============================] - 2s 30us/step - loss: 0.0900 - acc: 0.1109 - val_loss: 0.0900 - val_acc: 0.1135\n",
      "Epoch 8/20\n",
      "60000/60000 [==============================] - 2s 32us/step - loss: 0.0900 - acc: 0.1116 - val_loss: 0.0900 - val_acc: 0.0974\n",
      "Epoch 9/20\n",
      "60000/60000 [==============================] - 2s 32us/step - loss: 0.0900 - acc: 0.1101 - val_loss: 0.0900 - val_acc: 0.1135\n",
      "Epoch 10/20\n",
      "60000/60000 [==============================] - 2s 32us/step - loss: 0.0900 - acc: 0.1104 - val_loss: 0.0900 - val_acc: 0.1135\n",
      "Epoch 11/20\n",
      "60000/60000 [==============================] - 2s 30us/step - loss: 0.0900 - acc: 0.1099 - val_loss: 0.0900 - val_acc: 0.1135\n",
      "Epoch 12/20\n",
      "60000/60000 [==============================] - 2s 32us/step - loss: 0.0900 - acc: 0.1111 - val_loss: 0.0900 - val_acc: 0.1135\n",
      "Epoch 13/20\n",
      "60000/60000 [==============================] - 2s 33us/step - loss: 0.0900 - acc: 0.1117 - val_loss: 0.0900 - val_acc: 0.1135\n",
      "Epoch 14/20\n",
      "60000/60000 [==============================] - 2s 30us/step - loss: 0.0900 - acc: 0.1119 - val_loss: 0.0900 - val_acc: 0.1135\n",
      "Epoch 15/20\n",
      "60000/60000 [==============================] - 2s 32us/step - loss: 0.0900 - acc: 0.1103 - val_loss: 0.0900 - val_acc: 0.1135\n",
      "Epoch 16/20\n",
      "60000/60000 [==============================] - 2s 32us/step - loss: 0.0900 - acc: 0.1103 - val_loss: 0.0900 - val_acc: 0.1135\n",
      "Epoch 17/20\n",
      "60000/60000 [==============================] - 2s 31us/step - loss: 0.0900 - acc: 0.1115 - val_loss: 0.0900 - val_acc: 0.1135\n",
      "Epoch 18/20\n",
      "60000/60000 [==============================] - 2s 31us/step - loss: 0.0900 - acc: 0.1108 - val_loss: 0.0900 - val_acc: 0.1135\n",
      "Epoch 19/20\n",
      "60000/60000 [==============================] - 2s 30us/step - loss: 0.0900 - acc: 0.1118 - val_loss: 0.0900 - val_acc: 0.1135\n",
      "Epoch 20/20\n",
      "60000/60000 [==============================] - 2s 27us/step - loss: 0.0900 - acc: 0.1111 - val_loss: 0.0900 - val_acc: 0.1135\n"
     ]
    }
   ],
   "source": [
    "model_3_20 = model_3.fit(x_train_1, y_train, batch_size = 100,\n",
    "                        epochs = 20, verbose = 1,\n",
    "                         validation_data = (x_test_1, y_test))"
   ]
  },
  {
   "cell_type": "code",
   "execution_count": 14,
   "metadata": {},
   "outputs": [],
   "source": [
    "# model_4 : relu + softplus\n",
    "model_4 = Sequential()\n",
    "model_4.add(Dense(4, input_dim=784))\n",
    "model_4.add(Activation('relu'))\n",
    "model_4.add(Dense(2))\n",
    "model_4.add(Activation('relu'))\n",
    "model_4.add(Dense(10))\n",
    "model_4.add(Activation('softplus'))\n",
    "model_4.compile(loss='mse', optimizer = 'adam', metrics = ['accuracy'])"
   ]
  },
  {
   "cell_type": "code",
   "execution_count": 15,
   "metadata": {},
   "outputs": [
    {
     "name": "stdout",
     "output_type": "stream",
     "text": [
      "Train on 60000 samples, validate on 10000 samples\n",
      "Epoch 1/20\n",
      "60000/60000 [==============================] - 3s 50us/step - loss: 0.3161 - acc: 0.1090 - val_loss: 0.2291 - val_acc: 0.1135\n",
      "Epoch 2/20\n",
      "60000/60000 [==============================] - 2s 32us/step - loss: 0.1857 - acc: 0.1124 - val_loss: 0.1537 - val_acc: 0.1135\n",
      "Epoch 3/20\n",
      "60000/60000 [==============================] - 2s 32us/step - loss: 0.1358 - acc: 0.1124 - val_loss: 0.1219 - val_acc: 0.1135\n",
      "Epoch 4/20\n",
      "60000/60000 [==============================] - 2s 33us/step - loss: 0.1135 - acc: 0.1124 - val_loss: 0.1067 - val_acc: 0.1135\n",
      "Epoch 5/20\n",
      "60000/60000 [==============================] - 2s 30us/step - loss: 0.1024 - acc: 0.1124 - val_loss: 0.0989 - val_acc: 0.1135\n",
      "Epoch 6/20\n",
      "60000/60000 [==============================] - 2s 29us/step - loss: 0.0966 - acc: 0.1124 - val_loss: 0.0947 - val_acc: 0.1135\n",
      "Epoch 7/20\n",
      "60000/60000 [==============================] - 2s 30us/step - loss: 0.0935 - acc: 0.1124 - val_loss: 0.0924 - val_acc: 0.1135\n",
      "Epoch 8/20\n",
      "60000/60000 [==============================] - 2s 31us/step - loss: 0.0917 - acc: 0.1124 - val_loss: 0.0912 - val_acc: 0.1135\n",
      "Epoch 9/20\n",
      "60000/60000 [==============================] - 2s 32us/step - loss: 0.0908 - acc: 0.1124 - val_loss: 0.0905 - val_acc: 0.1135\n",
      "Epoch 10/20\n",
      "60000/60000 [==============================] - 2s 32us/step - loss: 0.0903 - acc: 0.1124 - val_loss: 0.0902 - val_acc: 0.1135\n",
      "Epoch 11/20\n",
      "60000/60000 [==============================] - 2s 31us/step - loss: 0.0901 - acc: 0.1124 - val_loss: 0.0900 - val_acc: 0.1135\n",
      "Epoch 12/20\n",
      "60000/60000 [==============================] - 2s 32us/step - loss: 0.0900 - acc: 0.1124 - val_loss: 0.0900 - val_acc: 0.1135\n",
      "Epoch 13/20\n",
      "60000/60000 [==============================] - 2s 31us/step - loss: 0.0900 - acc: 0.1124 - val_loss: 0.0900 - val_acc: 0.1135\n",
      "Epoch 14/20\n",
      "60000/60000 [==============================] - 2s 31us/step - loss: 0.0900 - acc: 0.1124 - val_loss: 0.0900 - val_acc: 0.1135\n",
      "Epoch 15/20\n",
      "60000/60000 [==============================] - 2s 32us/step - loss: 0.0900 - acc: 0.1124 - val_loss: 0.0900 - val_acc: 0.1135\n",
      "Epoch 16/20\n",
      "60000/60000 [==============================] - 2s 32us/step - loss: 0.0900 - acc: 0.1124 - val_loss: 0.0900 - val_acc: 0.1135\n",
      "Epoch 17/20\n",
      "60000/60000 [==============================] - 2s 32us/step - loss: 0.0900 - acc: 0.1124 - val_loss: 0.0900 - val_acc: 0.1135\n",
      "Epoch 18/20\n",
      "60000/60000 [==============================] - 2s 30us/step - loss: 0.0900 - acc: 0.1124 - val_loss: 0.0900 - val_acc: 0.1135\n",
      "Epoch 19/20\n",
      "60000/60000 [==============================] - 2s 30us/step - loss: 0.0900 - acc: 0.1124 - val_loss: 0.0900 - val_acc: 0.1135\n",
      "Epoch 20/20\n",
      "60000/60000 [==============================] - 2s 30us/step - loss: 0.0900 - acc: 0.1124 - val_loss: 0.0900 - val_acc: 0.1135\n"
     ]
    }
   ],
   "source": [
    "model_4_20 = model_4.fit(x_train_1, y_train, batch_size = 100,\n",
    "                        epochs = 20, verbose = 1,\n",
    "                         validation_data = (x_test_1, y_test))"
   ]
  },
  {
   "cell_type": "code",
   "execution_count": 16,
   "metadata": {},
   "outputs": [],
   "source": [
    "# model_5 : relu + softsign\n",
    "model_5 = Sequential()\n",
    "model_5.add(Dense(4, input_dim=784))\n",
    "model_5.add(Activation('relu'))\n",
    "model_5.add(Dense(2))\n",
    "model_5.add(Activation('relu'))\n",
    "model_5.add(Dense(10))\n",
    "model_5.add(Activation('softsign'))\n",
    "model_5.compile(loss='mse', optimizer = 'adam', metrics = ['accuracy'])"
   ]
  },
  {
   "cell_type": "code",
   "execution_count": 17,
   "metadata": {},
   "outputs": [
    {
     "name": "stdout",
     "output_type": "stream",
     "text": [
      "Train on 60000 samples, validate on 10000 samples\n",
      "Epoch 1/20\n",
      "60000/60000 [==============================] - 3s 48us/step - loss: 0.0875 - acc: 0.1611 - val_loss: 0.0818 - val_acc: 0.2137\n",
      "Epoch 2/20\n",
      "60000/60000 [==============================] - 2s 30us/step - loss: 0.0794 - acc: 0.2427 - val_loss: 0.0743 - val_acc: 0.3005\n",
      "Epoch 3/20\n",
      "60000/60000 [==============================] - 2s 32us/step - loss: 0.0740 - acc: 0.2996 - val_loss: 0.0737 - val_acc: 0.3003\n",
      "Epoch 4/20\n",
      "60000/60000 [==============================] - 2s 32us/step - loss: 0.0735 - acc: 0.3006 - val_loss: 0.0734 - val_acc: 0.3017\n",
      "Epoch 5/20\n",
      "60000/60000 [==============================] - 2s 31us/step - loss: 0.0733 - acc: 0.2997 - val_loss: 0.0733 - val_acc: 0.2996\n",
      "Epoch 6/20\n",
      "60000/60000 [==============================] - 2s 31us/step - loss: 0.0731 - acc: 0.3022 - val_loss: 0.0731 - val_acc: 0.3010\n",
      "Epoch 7/20\n",
      "60000/60000 [==============================] - 2s 33us/step - loss: 0.0730 - acc: 0.3001 - val_loss: 0.0731 - val_acc: 0.3012\n",
      "Epoch 8/20\n",
      "60000/60000 [==============================] - 2s 32us/step - loss: 0.0730 - acc: 0.3012 - val_loss: 0.0730 - val_acc: 0.2940\n",
      "Epoch 9/20\n",
      "60000/60000 [==============================] - 2s 32us/step - loss: 0.0729 - acc: 0.3017 - val_loss: 0.0730 - val_acc: 0.3007\n",
      "Epoch 10/20\n",
      "60000/60000 [==============================] - 2s 32us/step - loss: 0.0728 - acc: 0.3024 - val_loss: 0.0729 - val_acc: 0.3005\n",
      "Epoch 11/20\n",
      "60000/60000 [==============================] - 2s 32us/step - loss: 0.0728 - acc: 0.3017 - val_loss: 0.0729 - val_acc: 0.3011\n",
      "Epoch 12/20\n",
      "60000/60000 [==============================] - 2s 33us/step - loss: 0.0727 - acc: 0.3019 - val_loss: 0.0731 - val_acc: 0.2990\n",
      "Epoch 13/20\n",
      "60000/60000 [==============================] - 2s 32us/step - loss: 0.0727 - acc: 0.3015 - val_loss: 0.0730 - val_acc: 0.2999\n",
      "Epoch 14/20\n",
      "60000/60000 [==============================] - 2s 31us/step - loss: 0.0727 - acc: 0.3014 - val_loss: 0.0729 - val_acc: 0.2973\n",
      "Epoch 15/20\n",
      "60000/60000 [==============================] - 2s 32us/step - loss: 0.0727 - acc: 0.3027 - val_loss: 0.0729 - val_acc: 0.3004\n",
      "Epoch 16/20\n",
      "60000/60000 [==============================] - 2s 31us/step - loss: 0.0726 - acc: 0.3005 - val_loss: 0.0729 - val_acc: 0.3002\n",
      "Epoch 17/20\n",
      "60000/60000 [==============================] - 2s 28us/step - loss: 0.0727 - acc: 0.3024 - val_loss: 0.0729 - val_acc: 0.3008\n",
      "Epoch 18/20\n",
      "60000/60000 [==============================] - 2s 30us/step - loss: 0.0726 - acc: 0.3022 - val_loss: 0.0730 - val_acc: 0.3018\n",
      "Epoch 19/20\n",
      "60000/60000 [==============================] - 2s 30us/step - loss: 0.0726 - acc: 0.3030 - val_loss: 0.0732 - val_acc: 0.3028\n",
      "Epoch 20/20\n",
      "60000/60000 [==============================] - 2s 31us/step - loss: 0.0726 - acc: 0.3022 - val_loss: 0.0731 - val_acc: 0.3012\n"
     ]
    }
   ],
   "source": [
    "model_5_20 = model_5.fit(x_train_1, y_train, batch_size = 100,\n",
    "                        epochs = 20, verbose = 1,\n",
    "                         validation_data = (x_test_1, y_test))"
   ]
  },
  {
   "cell_type": "code",
   "execution_count": 18,
   "metadata": {},
   "outputs": [
    {
     "data": {
      "image/png": "[encoded data removed]",
      "text/plain": [
       "<Figure size 432x288 with 1 Axes>"
      ]
     },
     "metadata": {},
     "output_type": "display_data"
    }
   ],
   "source": [
    "# 比較各模型的accuracy\n",
    "plt.plot(model_1_20.history['acc'])\n",
    "plt.plot(model_2_20.history['acc'])\n",
    "plt.plot(model_3_20.history['acc'])\n",
    "plt.plot(model_4_20.history['acc'])\n",
    "plt.plot(model_5_20.history['acc'])\n",
    "\n",
    "plt.title('model training accuracy')\n",
    "plt.ylabel('accuracy')\n",
    "plt.xlabel('epoch')\n",
    "plt.legend(['model_1', 'model_2', 'model_3', 'model_4', 'model_5'], loc = 'best')\n",
    "plt.show()"
   ]
  },
  {
   "cell_type": "code",
   "execution_count": 19,
   "metadata": {},
   "outputs": [
    {
     "data": {
      "image/png": "[encoded data removed]",
      "text/plain": [
       "<Figure size 432x288 with 1 Axes>"
      ]
     },
     "metadata": {},
     "output_type": "display_data"
    }
   ],
   "source": [
    "# 比較各模型的validation loss\n",
    "plt.plot(model_1_20.history['val_loss'])\n",
    "plt.plot(model_2_20.history['val_loss'])\n",
    "plt.plot(model_3_20.history['val_loss'])\n",
    "plt.plot(model_4_20.history['val_loss'])\n",
    "plt.plot(model_5_20.history['val_loss'])\n",
    "\n",
    "plt.title('model validation loss')\n",
    "plt.ylabel('loss')\n",
    "plt.xlabel('epoch')\n",
    "plt.legend(['model_1', 'model_2', 'model_3', 'model_4', 'model_5'], loc = 'best')\n",
    "plt.show()"
   ]
  },
  {
   "cell_type": "markdown",
   "metadata": {},
   "source": [
    "可以發現在神經元個數少的情況下，不管用甚麼樣的active function 準確率都沒有超過0.4，所以決定增加神經元個數"
   ]
  },
  {
   "cell_type": "markdown",
   "metadata": {},
   "source": [
    "## 改變神經元個數\n",
    "* input layer 神經元輸入個數:784，輸出個數：4\n",
    "* second layer 神經元輸入個數:4，輸出個數: 2\n",
    "* output layer 神經元輸入個數:2，輸出個數：10\n",
    "* optimizer 是採用'adam'，直接用 keras 裡 adam 參數的預設值(lr=0.001, beta_1=0.9, beta_2=0.999, epsilon=None, decay=0.0, amsgrad=False)\n",
    "* loss function 是採用 mse 的方式"
   ]
  },
  {
   "cell_type": "code",
   "execution_count": 20,
   "metadata": {},
   "outputs": [],
   "source": [
    "# model_6 : relu + softmax + Adam\n",
    "model_6 = Sequential()\n",
    "model_6.add(Dense(20, input_dim=784))\n",
    "model_6.add(Activation('relu'))\n",
    "model_6.add(Dense(15))\n",
    "model_6.add(Activation('relu'))\n",
    "model_6.add(Dense(10))\n",
    "model_6.add(Activation('softmax'))\n",
    "model_6.compile(loss='mse', optimizer = 'adam', metrics = ['accuracy'])"
   ]
  },
  {
   "cell_type": "code",
   "execution_count": 21,
   "metadata": {},
   "outputs": [
    {
     "name": "stdout",
     "output_type": "stream",
     "text": [
      "Train on 60000 samples, validate on 10000 samples\n",
      "Epoch 1/20\n",
      "60000/60000 [==============================] - 3s 53us/step - loss: 0.0262 - acc: 0.8162 - val_loss: 0.0125 - val_acc: 0.9197\n",
      "Epoch 2/20\n",
      "60000/60000 [==============================] - 2s 32us/step - loss: 0.0116 - acc: 0.9262 - val_loss: 0.0104 - val_acc: 0.9332\n",
      "Epoch 3/20\n",
      "60000/60000 [==============================] - 2s 34us/step - loss: 0.0097 - acc: 0.9387 - val_loss: 0.0093 - val_acc: 0.9404\n",
      "Epoch 4/20\n",
      "60000/60000 [==============================] - 2s 31us/step - loss: 0.0085 - acc: 0.9460 - val_loss: 0.0084 - val_acc: 0.9459\n",
      "Epoch 5/20\n",
      "60000/60000 [==============================] - 2s 34us/step - loss: 0.0078 - acc: 0.9504 - val_loss: 0.0079 - val_acc: 0.9494\n",
      "Epoch 6/20\n",
      "60000/60000 [==============================] - 2s 34us/step - loss: 0.0073 - acc: 0.9539 - val_loss: 0.0081 - val_acc: 0.9471\n",
      "Epoch 7/20\n",
      "60000/60000 [==============================] - 2s 34us/step - loss: 0.0069 - acc: 0.9570 - val_loss: 0.0076 - val_acc: 0.9506\n",
      "Epoch 8/20\n",
      "60000/60000 [==============================] - 2s 29us/step - loss: 0.0065 - acc: 0.9588 - val_loss: 0.0077 - val_acc: 0.9483\n",
      "Epoch 9/20\n",
      "60000/60000 [==============================] - 2s 33us/step - loss: 0.0063 - acc: 0.9609 - val_loss: 0.0073 - val_acc: 0.9533\n",
      "Epoch 10/20\n",
      "60000/60000 [==============================] - 2s 33us/step - loss: 0.0059 - acc: 0.9633 - val_loss: 0.0071 - val_acc: 0.9541\n",
      "Epoch 11/20\n",
      "60000/60000 [==============================] - 2s 34us/step - loss: 0.0057 - acc: 0.9653 - val_loss: 0.0072 - val_acc: 0.9527\n",
      "Epoch 12/20\n",
      "60000/60000 [==============================] - 2s 35us/step - loss: 0.0055 - acc: 0.9663 - val_loss: 0.0072 - val_acc: 0.9531\n",
      "Epoch 13/20\n",
      "60000/60000 [==============================] - 2s 34us/step - loss: 0.0053 - acc: 0.9675 - val_loss: 0.0068 - val_acc: 0.9565\n",
      "Epoch 14/20\n",
      "60000/60000 [==============================] - 2s 33us/step - loss: 0.0052 - acc: 0.9689 - val_loss: 0.0070 - val_acc: 0.9548\n",
      "Epoch 15/20\n",
      "60000/60000 [==============================] - 2s 32us/step - loss: 0.0050 - acc: 0.9694 - val_loss: 0.0068 - val_acc: 0.9568\n",
      "Epoch 16/20\n",
      "60000/60000 [==============================] - 2s 33us/step - loss: 0.0049 - acc: 0.9707 - val_loss: 0.0075 - val_acc: 0.9523\n",
      "Epoch 17/20\n",
      "60000/60000 [==============================] - 2s 35us/step - loss: 0.0047 - acc: 0.9717 - val_loss: 0.0068 - val_acc: 0.9549\n",
      "Epoch 18/20\n",
      "60000/60000 [==============================] - 2s 33us/step - loss: 0.0047 - acc: 0.9721 - val_loss: 0.0066 - val_acc: 0.9570\n",
      "Epoch 19/20\n",
      "60000/60000 [==============================] - 2s 33us/step - loss: 0.0045 - acc: 0.9730 - val_loss: 0.0067 - val_acc: 0.9580\n",
      "Epoch 20/20\n",
      "60000/60000 [==============================] - 2s 33us/step - loss: 0.0045 - acc: 0.9734 - val_loss: 0.0068 - val_acc: 0.9565\n"
     ]
    }
   ],
   "source": [
    "model_6_20 = model_6.fit(x_train_1, y_train, batch_size = 100,\n",
    "                        epochs = 20, verbose = 1,\n",
    "                         validation_data = (x_test_1, y_test))"
   ]
  },
  {
   "cell_type": "code",
   "execution_count": 22,
   "metadata": {},
   "outputs": [],
   "source": [
    "# model_7 : relu + elu\n",
    "model_7 = Sequential()\n",
    "model_7.add(Dense(20, input_dim=784))\n",
    "model_7.add(Activation('relu'))\n",
    "model_7.add(Dense(15))\n",
    "model_7.add(Activation('relu'))\n",
    "model_7.add(Dense(10))\n",
    "model_7.add(Activation('elu'))\n",
    "model_7.compile(loss='mse', optimizer = 'adam', metrics = ['accuracy'])"
   ]
  },
  {
   "cell_type": "code",
   "execution_count": 23,
   "metadata": {},
   "outputs": [
    {
     "name": "stdout",
     "output_type": "stream",
     "text": [
      "Train on 60000 samples, validate on 10000 samples\n",
      "Epoch 1/20\n",
      "60000/60000 [==============================] - 3s 52us/step - loss: 0.0398 - acc: 0.7776 - val_loss: 0.0187 - val_acc: 0.9202\n",
      "Epoch 2/20\n",
      "60000/60000 [==============================] - 2s 35us/step - loss: 0.0162 - acc: 0.9267 - val_loss: 0.0143 - val_acc: 0.9340\n",
      "Epoch 3/20\n",
      "60000/60000 [==============================] - 2s 34us/step - loss: 0.0136 - acc: 0.9358 - val_loss: 0.0127 - val_acc: 0.9400\n",
      "Epoch 4/20\n",
      "60000/60000 [==============================] - 2s 34us/step - loss: 0.0122 - acc: 0.9415 - val_loss: 0.0117 - val_acc: 0.9429\n",
      "Epoch 5/20\n",
      "60000/60000 [==============================] - 2s 32us/step - loss: 0.0110 - acc: 0.9454 - val_loss: 0.0109 - val_acc: 0.9444\n",
      "Epoch 6/20\n",
      "60000/60000 [==============================] - 2s 32us/step - loss: 0.0103 - acc: 0.9490 - val_loss: 0.0107 - val_acc: 0.9433\n",
      "Epoch 7/20\n",
      "60000/60000 [==============================] - 2s 33us/step - loss: 0.0098 - acc: 0.9511 - val_loss: 0.0102 - val_acc: 0.9468\n",
      "Epoch 8/20\n",
      "60000/60000 [==============================] - 2s 35us/step - loss: 0.0094 - acc: 0.9524 - val_loss: 0.0100 - val_acc: 0.9466\n",
      "Epoch 9/20\n",
      "60000/60000 [==============================] - 2s 33us/step - loss: 0.0091 - acc: 0.9538 - val_loss: 0.0100 - val_acc: 0.9454\n",
      "Epoch 10/20\n",
      "60000/60000 [==============================] - 2s 31us/step - loss: 0.0088 - acc: 0.9552 - val_loss: 0.0097 - val_acc: 0.9484\n",
      "Epoch 11/20\n",
      "60000/60000 [==============================] - 2s 34us/step - loss: 0.0086 - acc: 0.9558 - val_loss: 0.0098 - val_acc: 0.9475\n",
      "Epoch 12/20\n",
      "60000/60000 [==============================] - 2s 32us/step - loss: 0.0083 - acc: 0.9573 - val_loss: 0.0098 - val_acc: 0.9456\n",
      "Epoch 13/20\n",
      "60000/60000 [==============================] - 2s 33us/step - loss: 0.0081 - acc: 0.9590 - val_loss: 0.0095 - val_acc: 0.9482\n",
      "Epoch 14/20\n",
      "60000/60000 [==============================] - 2s 27us/step - loss: 0.0080 - acc: 0.9591 - val_loss: 0.0095 - val_acc: 0.9470\n",
      "Epoch 15/20\n",
      "60000/60000 [==============================] - 2s 32us/step - loss: 0.0078 - acc: 0.9600 - val_loss: 0.0093 - val_acc: 0.9474\n",
      "Epoch 16/20\n",
      "60000/60000 [==============================] - 2s 32us/step - loss: 0.0077 - acc: 0.9608 - val_loss: 0.0091 - val_acc: 0.9479\n",
      "Epoch 17/20\n",
      "60000/60000 [==============================] - 2s 33us/step - loss: 0.0076 - acc: 0.9613 - val_loss: 0.0091 - val_acc: 0.9478\n",
      "Epoch 18/20\n",
      "60000/60000 [==============================] - 2s 35us/step - loss: 0.0074 - acc: 0.9619 - val_loss: 0.0096 - val_acc: 0.9439\n",
      "Epoch 19/20\n",
      "60000/60000 [==============================] - 2s 32us/step - loss: 0.0073 - acc: 0.9625 - val_loss: 0.0092 - val_acc: 0.9470\n",
      "Epoch 20/20\n",
      "60000/60000 [==============================] - 2s 32us/step - loss: 0.0073 - acc: 0.9625 - val_loss: 0.0093 - val_acc: 0.9466\n"
     ]
    }
   ],
   "source": [
    "model_7_20 = model_7.fit(x_train_1, y_train, batch_size = 100,\n",
    "                        epochs = 20, verbose = 1,\n",
    "                         validation_data = (x_test_1, y_test))"
   ]
  },
  {
   "cell_type": "code",
   "execution_count": 24,
   "metadata": {},
   "outputs": [],
   "source": [
    "# model_8 : relu + selu\n",
    "model_8 = Sequential()\n",
    "model_8.add(Dense(20, input_dim=784))\n",
    "model_8.add(Activation('relu'))\n",
    "model_8.add(Dense(15))\n",
    "model_8.add(Activation('relu'))\n",
    "model_8.add(Dense(10))\n",
    "model_8.add(Activation('selu'))\n",
    "model_8.compile(loss='mse', optimizer = 'adam', metrics = ['accuracy'])"
   ]
  },
  {
   "cell_type": "code",
   "execution_count": 25,
   "metadata": {},
   "outputs": [
    {
     "name": "stdout",
     "output_type": "stream",
     "text": [
      "Train on 60000 samples, validate on 10000 samples\n",
      "Epoch 1/20\n",
      "60000/60000 [==============================] - 3s 52us/step - loss: 0.0589 - acc: 0.5990 - val_loss: 0.0356 - val_acc: 0.7676\n",
      "Epoch 2/20\n",
      "60000/60000 [==============================] - 2s 35us/step - loss: 0.0285 - acc: 0.8590 - val_loss: 0.0225 - val_acc: 0.9077\n",
      "Epoch 3/20\n",
      "60000/60000 [==============================] - 2s 34us/step - loss: 0.0197 - acc: 0.9176 - val_loss: 0.0170 - val_acc: 0.9290\n",
      "Epoch 4/20\n",
      "60000/60000 [==============================] - 2s 36us/step - loss: 0.0163 - acc: 0.9297 - val_loss: 0.0149 - val_acc: 0.9355\n",
      "Epoch 5/20\n",
      "60000/60000 [==============================] - 2s 33us/step - loss: 0.0145 - acc: 0.9346 - val_loss: 0.0138 - val_acc: 0.9373\n",
      "Epoch 6/20\n",
      "60000/60000 [==============================] - 2s 34us/step - loss: 0.0135 - acc: 0.9377 - val_loss: 0.0133 - val_acc: 0.9371\n",
      "Epoch 7/20\n",
      "60000/60000 [==============================] - 2s 29us/step - loss: 0.0129 - acc: 0.9406 - val_loss: 0.0126 - val_acc: 0.9397\n",
      "Epoch 8/20\n",
      "60000/60000 [==============================] - 2s 32us/step - loss: 0.0124 - acc: 0.9423 - val_loss: 0.0125 - val_acc: 0.9395\n",
      "Epoch 9/20\n",
      "60000/60000 [==============================] - 2s 34us/step - loss: 0.0120 - acc: 0.9433 - val_loss: 0.0123 - val_acc: 0.9384\n",
      "Epoch 10/20\n",
      "60000/60000 [==============================] - 2s 34us/step - loss: 0.0116 - acc: 0.9454 - val_loss: 0.0119 - val_acc: 0.9446\n",
      "Epoch 11/20\n",
      "60000/60000 [==============================] - 2s 32us/step - loss: 0.0111 - acc: 0.9477 - val_loss: 0.0114 - val_acc: 0.9449\n",
      "Epoch 12/20\n",
      "60000/60000 [==============================] - 2s 33us/step - loss: 0.0109 - acc: 0.9481 - val_loss: 0.0112 - val_acc: 0.9437\n",
      "Epoch 13/20\n",
      "60000/60000 [==============================] - 2s 31us/step - loss: 0.0106 - acc: 0.9493 - val_loss: 0.0110 - val_acc: 0.9444\n",
      "Epoch 14/20\n",
      "60000/60000 [==============================] - 2s 34us/step - loss: 0.0104 - acc: 0.9504 - val_loss: 0.0109 - val_acc: 0.9454\n",
      "Epoch 15/20\n",
      "60000/60000 [==============================] - 2s 34us/step - loss: 0.0101 - acc: 0.9512 - val_loss: 0.0107 - val_acc: 0.9442\n",
      "Epoch 16/20\n",
      "60000/60000 [==============================] - 2s 35us/step - loss: 0.0100 - acc: 0.9520 - val_loss: 0.0107 - val_acc: 0.9455\n",
      "Epoch 17/20\n",
      "60000/60000 [==============================] - 2s 30us/step - loss: 0.0097 - acc: 0.9529 - val_loss: 0.0104 - val_acc: 0.9451\n",
      "Epoch 18/20\n",
      "60000/60000 [==============================] - 2s 33us/step - loss: 0.0094 - acc: 0.9535 - val_loss: 0.0101 - val_acc: 0.9464\n",
      "Epoch 19/20\n",
      "60000/60000 [==============================] - 2s 35us/step - loss: 0.0092 - acc: 0.9538 - val_loss: 0.0101 - val_acc: 0.9476\n",
      "Epoch 20/20\n",
      "60000/60000 [==============================] - 2s 32us/step - loss: 0.0090 - acc: 0.9554 - val_loss: 0.0099 - val_acc: 0.9483\n"
     ]
    }
   ],
   "source": [
    "model_8_20 = model_8.fit(x_train_1, y_train, batch_size = 100,\n",
    "                        epochs = 20, verbose = 1,\n",
    "                         validation_data = (x_test_1, y_test))"
   ]
  },
  {
   "cell_type": "code",
   "execution_count": 26,
   "metadata": {},
   "outputs": [],
   "source": [
    "# model_9 : relu + softplus\n",
    "model_9 = Sequential()\n",
    "model_9.add(Dense(20, input_dim=784))\n",
    "model_9.add(Activation('relu'))\n",
    "model_9.add(Dense(15))\n",
    "model_9.add(Activation('relu'))\n",
    "model_9.add(Dense(10))\n",
    "model_9.add(Activation('softplus'))\n",
    "model_9.compile(loss='mse', optimizer = 'adam', metrics = ['accuracy'])"
   ]
  },
  {
   "cell_type": "code",
   "execution_count": 27,
   "metadata": {},
   "outputs": [
    {
     "name": "stdout",
     "output_type": "stream",
     "text": [
      "Train on 60000 samples, validate on 10000 samples\n",
      "Epoch 1/20\n",
      "60000/60000 [==============================] - 3s 56us/step - loss: 0.0639 - acc: 0.5719 - val_loss: 0.0408 - val_acc: 0.7585\n",
      "Epoch 2/20\n",
      "60000/60000 [==============================] - 2s 36us/step - loss: 0.0333 - acc: 0.8108 - val_loss: 0.0258 - val_acc: 0.8843\n",
      "Epoch 3/20\n",
      "60000/60000 [==============================] - 2s 34us/step - loss: 0.0223 - acc: 0.8976 - val_loss: 0.0197 - val_acc: 0.9096\n",
      "Epoch 4/20\n",
      "60000/60000 [==============================] - 2s 34us/step - loss: 0.0189 - acc: 0.9133 - val_loss: 0.0179 - val_acc: 0.9180\n",
      "Epoch 5/20\n",
      "60000/60000 [==============================] - 2s 34us/step - loss: 0.0172 - acc: 0.9206 - val_loss: 0.0177 - val_acc: 0.9209\n",
      "Epoch 6/20\n",
      "60000/60000 [==============================] - 2s 35us/step - loss: 0.0162 - acc: 0.9249 - val_loss: 0.0160 - val_acc: 0.9239\n",
      "Epoch 7/20\n",
      "60000/60000 [==============================] - 2s 36us/step - loss: 0.0152 - acc: 0.9290 - val_loss: 0.0152 - val_acc: 0.9269\n",
      "Epoch 8/20\n",
      "60000/60000 [==============================] - 2s 33us/step - loss: 0.0144 - acc: 0.9317 - val_loss: 0.0147 - val_acc: 0.9309\n",
      "Epoch 9/20\n",
      "60000/60000 [==============================] - 2s 36us/step - loss: 0.0137 - acc: 0.9340 - val_loss: 0.0140 - val_acc: 0.9304\n",
      "Epoch 10/20\n",
      "60000/60000 [==============================] - 2s 33us/step - loss: 0.0131 - acc: 0.9361 - val_loss: 0.0134 - val_acc: 0.9338\n",
      "Epoch 11/20\n",
      "60000/60000 [==============================] - 2s 32us/step - loss: 0.0125 - acc: 0.9382 - val_loss: 0.0129 - val_acc: 0.9336\n",
      "Epoch 12/20\n",
      "60000/60000 [==============================] - 2s 35us/step - loss: 0.0120 - acc: 0.9406 - val_loss: 0.0124 - val_acc: 0.9358\n",
      "Epoch 13/20\n",
      "60000/60000 [==============================] - 2s 33us/step - loss: 0.0115 - acc: 0.9422 - val_loss: 0.0122 - val_acc: 0.9382\n",
      "Epoch 14/20\n",
      "60000/60000 [==============================] - 2s 35us/step - loss: 0.0111 - acc: 0.9440 - val_loss: 0.0119 - val_acc: 0.9397\n",
      "Epoch 15/20\n",
      "60000/60000 [==============================] - 2s 35us/step - loss: 0.0107 - acc: 0.9458 - val_loss: 0.0114 - val_acc: 0.9399\n",
      "Epoch 16/20\n",
      "60000/60000 [==============================] - 2s 35us/step - loss: 0.0104 - acc: 0.9476 - val_loss: 0.0113 - val_acc: 0.9420\n",
      "Epoch 17/20\n",
      "60000/60000 [==============================] - 2s 33us/step - loss: 0.0101 - acc: 0.9487 - val_loss: 0.0111 - val_acc: 0.9426\n",
      "Epoch 18/20\n",
      "60000/60000 [==============================] - 2s 33us/step - loss: 0.0099 - acc: 0.9499 - val_loss: 0.0110 - val_acc: 0.9431\n",
      "Epoch 19/20\n",
      "60000/60000 [==============================] - 2s 33us/step - loss: 0.0096 - acc: 0.9512 - val_loss: 0.0107 - val_acc: 0.9446\n",
      "Epoch 20/20\n",
      "60000/60000 [==============================] - 2s 34us/step - loss: 0.0093 - acc: 0.9527 - val_loss: 0.0104 - val_acc: 0.9442\n"
     ]
    }
   ],
   "source": [
    "model_9_20 = model_9.fit(x_train_1, y_train, batch_size = 100,\n",
    "                        epochs = 20, verbose = 1,\n",
    "                         validation_data = (x_test_1, y_test))"
   ]
  },
  {
   "cell_type": "code",
   "execution_count": 28,
   "metadata": {},
   "outputs": [],
   "source": [
    "# model_10 : relu + softsign\n",
    "model_10 = Sequential()\n",
    "model_10.add(Dense(20, input_dim=784))\n",
    "model_10.add(Activation('relu'))\n",
    "model_10.add(Dense(15))\n",
    "model_10.add(Activation('relu'))\n",
    "model_10.add(Dense(10))\n",
    "model_10.add(Activation('softsign'))\n",
    "model_10.compile(loss='mse', optimizer = 'adam', metrics = ['accuracy'])"
   ]
  },
  {
   "cell_type": "code",
   "execution_count": 29,
   "metadata": {},
   "outputs": [
    {
     "name": "stdout",
     "output_type": "stream",
     "text": [
      "Train on 60000 samples, validate on 10000 samples\n",
      "Epoch 1/20\n",
      "60000/60000 [==============================] - 4s 60us/step - loss: 0.0482 - acc: 0.7758 - val_loss: 0.0292 - val_acc: 0.8972\n",
      "Epoch 2/20\n",
      "60000/60000 [==============================] - 2s 30us/step - loss: 0.0251 - acc: 0.9026 - val_loss: 0.0210 - val_acc: 0.9185\n",
      "Epoch 3/20\n",
      "60000/60000 [==============================] - 2s 30us/step - loss: 0.0194 - acc: 0.9170 - val_loss: 0.0173 - val_acc: 0.9242\n",
      "Epoch 4/20\n",
      "60000/60000 [==============================] - 2s 35us/step - loss: 0.0165 - acc: 0.9247 - val_loss: 0.0152 - val_acc: 0.9270\n",
      "Epoch 5/20\n",
      "60000/60000 [==============================] - 2s 35us/step - loss: 0.0146 - acc: 0.9304 - val_loss: 0.0137 - val_acc: 0.9328\n",
      "Epoch 6/20\n",
      "60000/60000 [==============================] - 2s 34us/step - loss: 0.0132 - acc: 0.9363 - val_loss: 0.0127 - val_acc: 0.9357\n",
      "Epoch 7/20\n",
      "60000/60000 [==============================] - 2s 36us/step - loss: 0.0121 - acc: 0.9399 - val_loss: 0.0122 - val_acc: 0.9366\n",
      "Epoch 8/20\n",
      "60000/60000 [==============================] - 2s 35us/step - loss: 0.0114 - acc: 0.9430 - val_loss: 0.0115 - val_acc: 0.9393\n",
      "Epoch 9/20\n",
      "60000/60000 [==============================] - 2s 35us/step - loss: 0.0108 - acc: 0.9448 - val_loss: 0.0113 - val_acc: 0.9404\n",
      "Epoch 10/20\n",
      "60000/60000 [==============================] - 2s 33us/step - loss: 0.0103 - acc: 0.9469 - val_loss: 0.0114 - val_acc: 0.9381\n",
      "Epoch 11/20\n",
      "60000/60000 [==============================] - 2s 33us/step - loss: 0.0099 - acc: 0.9489 - val_loss: 0.0107 - val_acc: 0.9411\n",
      "Epoch 12/20\n",
      "60000/60000 [==============================] - 2s 36us/step - loss: 0.0096 - acc: 0.9501 - val_loss: 0.0105 - val_acc: 0.9423\n",
      "Epoch 13/20\n",
      "60000/60000 [==============================] - 2s 36us/step - loss: 0.0092 - acc: 0.9515 - val_loss: 0.0105 - val_acc: 0.9427\n",
      "Epoch 14/20\n",
      "60000/60000 [==============================] - 2s 35us/step - loss: 0.0090 - acc: 0.9529 - val_loss: 0.0101 - val_acc: 0.9436\n",
      "Epoch 15/20\n",
      "60000/60000 [==============================] - 2s 36us/step - loss: 0.0087 - acc: 0.9536 - val_loss: 0.0100 - val_acc: 0.9440\n",
      "Epoch 16/20\n",
      "60000/60000 [==============================] - 2s 36us/step - loss: 0.0084 - acc: 0.9547 - val_loss: 0.0099 - val_acc: 0.9436\n",
      "Epoch 17/20\n",
      "60000/60000 [==============================] - 2s 33us/step - loss: 0.0082 - acc: 0.9558 - val_loss: 0.0098 - val_acc: 0.9446\n",
      "Epoch 18/20\n",
      "60000/60000 [==============================] - 2s 34us/step - loss: 0.0081 - acc: 0.9562 - val_loss: 0.0097 - val_acc: 0.9478\n",
      "Epoch 19/20\n",
      "60000/60000 [==============================] - 2s 36us/step - loss: 0.0079 - acc: 0.9571 - val_loss: 0.0096 - val_acc: 0.9467\n",
      "Epoch 20/20\n",
      "60000/60000 [==============================] - 2s 34us/step - loss: 0.0078 - acc: 0.9572 - val_loss: 0.0098 - val_acc: 0.9445\n"
     ]
    }
   ],
   "source": [
    "model_10_20 = model_10.fit(x_train_1, y_train, batch_size = 100,\n",
    "                        epochs = 20, verbose = 1,\n",
    "                         validation_data = (x_test_1, y_test))"
   ]
  },
  {
   "cell_type": "code",
   "execution_count": 30,
   "metadata": {},
   "outputs": [
    {
     "data": {
      "image/png": "[encoded data removed]",
      "text/plain": [
       "<Figure size 432x288 with 1 Axes>"
      ]
     },
     "metadata": {},
     "output_type": "display_data"
    }
   ],
   "source": [
    "# 比較各模型的accuracy\n",
    "plt.plot(model_6_20.history['acc'])\n",
    "plt.plot(model_7_20.history['acc'])\n",
    "plt.plot(model_8_20.history['acc'])\n",
    "plt.plot(model_9_20.history['acc'])\n",
    "plt.plot(model_10_20.history['acc'])\n",
    "\n",
    "plt.title('model training accuracy')\n",
    "plt.ylabel('accuracy')\n",
    "plt.xlabel('epoch')\n",
    "plt.legend(['model_6', 'model_7', 'model_8', 'model_9', 'model_10'], loc = 'best')\n",
    "plt.show()"
   ]
  },
  {
   "cell_type": "code",
   "execution_count": 31,
   "metadata": {},
   "outputs": [
    {
     "data": {
      "image/png": "[encoded data removed]",
      "text/plain": [
       "<Figure size 432x288 with 1 Axes>"
      ]
     },
     "metadata": {},
     "output_type": "display_data"
    }
   ],
   "source": [
    "# 比較各模型的validation loss\n",
    "plt.plot(model_6_20.history['val_loss'])\n",
    "plt.plot(model_7_20.history['val_loss'])\n",
    "plt.plot(model_8_20.history['val_loss'])\n",
    "plt.plot(model_9_20.history['val_loss'])\n",
    "plt.plot(model_10_20.history['val_loss'])\n",
    "\n",
    "plt.title('model validation loss')\n",
    "plt.ylabel('loss')\n",
    "plt.xlabel('epoch')\n",
    "plt.legend(['model_6', 'model_7', 'model_8', 'model_9', 'model_10'], loc = 'best')\n",
    "plt.show()"
   ]
  },
  {
   "cell_type": "code",
   "execution_count": 32,
   "metadata": {},
   "outputs": [
    {
     "name": "stdout",
     "output_type": "stream",
     "text": [
      "10000/10000 [==============================] - 0s 35us/step\n",
      "loss: 0.010181933044124361\n",
      "accuracy: 0.9491\n"
     ]
    }
   ],
   "source": [
    "score = model_6.evaluate(x_test, y_test)\n",
    "print('loss:', score[0])\n",
    "print('accuracy:', score[1])"
   ]
  },
  {
   "cell_type": "markdown",
   "metadata": {},
   "source": [
    "* 可以發現訓練最好的模型是model 6， active function 是 relu + softmax, optimizer 是 Adam\n",
    "* 準確率有達到94.9%"
   ]
  },
  {
   "cell_type": "code",
   "execution_count": 33,
   "metadata": {},
   "outputs": [
    {
     "data": {
      "application/vnd.jupyter.widget-view+json": {
       "model_id": "b4ab97d56d0c432b97ccc4959aa7d18a",
       "version_major": 2,
       "version_minor": 0
      },
      "text/plain": [
       "interactive(children=(IntSlider(value=4999, description='testNum', max=9999), Button(description='Run Interact…"
      ]
     },
     "metadata": {},
     "output_type": "display_data"
    },
    {
     "data": {
      "text/plain": [
       "<function __main__.test(testNum)>"
      ]
     },
     "execution_count": 33,
     "metadata": {},
     "output_type": "execute_result"
    }
   ],
   "source": [
    "# output\n",
    "from ipywidgets import interact_manual\n",
    "predict = model_6.predict_classes(x_test)\n",
    "def test(testNum):\n",
    "    plt.imshow(x_test[testNum].reshape(28,28), cmap='Greys')\n",
    "    print('神經網路判斷為: ', predict[testNum])\n",
    "interact_manual(test, testNum = (0,9999))"
   ]
  },
  {
   "cell_type": "code",
   "execution_count": null,
   "metadata": {},
   "outputs": [],
   "source": []
  }
 ],
 "metadata": {
  "kernelspec": {
   "display_name": "Python 3",
   "language": "python",
   "name": "python3"
  },
  "language_info": {
   "codemirror_mode": {
    "name": "ipython",
    "version": 3
   },
   "file_extension": ".py",
   "mimetype": "text/x-python",
   "name": "python",
   "nbconvert_exporter": "python",
   "pygments_lexer": "ipython3",
   "version": "3.6.5"
  }
 },
 "nbformat": 4,
 "nbformat_minor": 2
}

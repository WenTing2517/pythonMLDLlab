{
 "cells": [
  {
   "cell_type": "code",
   "execution_count": 1,
   "metadata": {},
   "outputs": [],
   "source": [
    "% matplotlib inline\n",
    "import numpy as np\n",
    "import pandas as pd\n",
    "import matplotlib as mpl"
   ]
  },
  {
   "cell_type": "markdown",
   "metadata": {},
   "source": [
    "### 使用不同的字形"
   ]
  },
  {
   "cell_type": "code",
   "execution_count": 47,
   "metadata": {},
   "outputs": [
    {
     "ename": "SyntaxError",
     "evalue": "invalid syntax (<ipython-input-47-b6ac785849d6>, line 1)",
     "output_type": "error",
     "traceback": [
      "\u001b[1;36m  File \u001b[1;32m\"<ipython-input-47-b6ac785849d6>\"\u001b[1;36m, line \u001b[1;32m1\u001b[0m\n\u001b[1;33m    f.name for f in mpl.font_manager.fontManager.ttflist\u001b[0m\n\u001b[1;37m             ^\u001b[0m\n\u001b[1;31mSyntaxError\u001b[0m\u001b[1;31m:\u001b[0m invalid syntax\n"
     ]
    }
   ],
   "source": [
    "mpl.rc('font', family = 'Noto Sans CJKTC')"
   ]
  },
  {
   "cell_type": "markdown",
   "metadata": {},
   "source": [
    "### 正規資料下載\n",
    "*  https://data.gov.tw/\n",
    "* 以下是大專院校校別學生數(107年)"
   ]
  },
  {
   "cell_type": "code",
   "execution_count": 13,
   "metadata": {},
   "outputs": [],
   "source": [
    "df = pd.read_csv('http://stats.moe.gov.tw/files/detail/107/107_student.csv')"
   ]
  },
  {
   "cell_type": "code",
   "execution_count": 6,
   "metadata": {},
   "outputs": [
    {
     "data": {
      "text/html": [
       "<div>\n",
       "<style scoped>\n",
       "    .dataframe tbody tr th:only-of-type {\n",
       "        vertical-align: middle;\n",
       "    }\n",
       "\n",
       "    .dataframe tbody tr th {\n",
       "        vertical-align: top;\n",
       "    }\n",
       "\n",
       "    .dataframe thead th {\n",
       "        text-align: right;\n",
       "    }\n",
       "</style>\n",
       "<table border=\"1\" class=\"dataframe\">\n",
       "  <thead>\n",
       "    <tr style=\"text-align: right;\">\n",
       "      <th></th>\n",
       "      <th>大專校院校別學生數</th>\n",
       "      <th>Unnamed: 1</th>\n",
       "      <th>Unnamed: 2</th>\n",
       "      <th>Unnamed: 3</th>\n",
       "      <th>Unnamed: 4</th>\n",
       "      <th>Unnamed: 5</th>\n",
       "      <th>Unnamed: 6</th>\n",
       "      <th>Unnamed: 7</th>\n",
       "      <th>Unnamed: 8</th>\n",
       "      <th>Unnamed: 9</th>\n",
       "      <th>...</th>\n",
       "      <th>Unnamed: 15</th>\n",
       "      <th>Unnamed: 16</th>\n",
       "      <th>Unnamed: 17</th>\n",
       "      <th>Unnamed: 18</th>\n",
       "      <th>Unnamed: 19</th>\n",
       "      <th>Unnamed: 20</th>\n",
       "      <th>Unnamed: 21</th>\n",
       "      <th>Unnamed: 22</th>\n",
       "      <th>Unnamed: 23</th>\n",
       "      <th>Unnamed: 24</th>\n",
       "    </tr>\n",
       "  </thead>\n",
       "  <tbody>\n",
       "    <tr>\n",
       "      <th>0</th>\n",
       "      <td>107 學年度 SY2018-2019</td>\n",
       "      <td>NaN</td>\n",
       "      <td>NaN</td>\n",
       "      <td>NaN</td>\n",
       "      <td>NaN</td>\n",
       "      <td>NaN</td>\n",
       "      <td>NaN</td>\n",
       "      <td>NaN</td>\n",
       "      <td>NaN</td>\n",
       "      <td>NaN</td>\n",
       "      <td>...</td>\n",
       "      <td>NaN</td>\n",
       "      <td>NaN</td>\n",
       "      <td>NaN</td>\n",
       "      <td>NaN</td>\n",
       "      <td>NaN</td>\n",
       "      <td>NaN</td>\n",
       "      <td>NaN</td>\n",
       "      <td>NaN</td>\n",
       "      <td>NaN</td>\n",
       "      <td>NaN</td>\n",
       "    </tr>\n",
       "    <tr>\n",
       "      <th>1</th>\n",
       "      <td>學校代碼</td>\n",
       "      <td>學校名稱</td>\n",
       "      <td>日間∕進修別</td>\n",
       "      <td>等級別</td>\n",
       "      <td>總計</td>\n",
       "      <td>男生計</td>\n",
       "      <td>女生計</td>\n",
       "      <td>一年級男生</td>\n",
       "      <td>一年級女生</td>\n",
       "      <td>二年級男生</td>\n",
       "      <td>...</td>\n",
       "      <td>五年級男生</td>\n",
       "      <td>五年級女生</td>\n",
       "      <td>六年級男生</td>\n",
       "      <td>六年級女生</td>\n",
       "      <td>七年級男生</td>\n",
       "      <td>七年級女生</td>\n",
       "      <td>延修生男生</td>\n",
       "      <td>延修生女生</td>\n",
       "      <td>縣市名稱</td>\n",
       "      <td>體系別</td>\n",
       "    </tr>\n",
       "    <tr>\n",
       "      <th>2</th>\n",
       "      <td>0001</td>\n",
       "      <td>國立政治大學</td>\n",
       "      <td>D 日</td>\n",
       "      <td>D 博士</td>\n",
       "      <td>965</td>\n",
       "      <td>551</td>\n",
       "      <td>414</td>\n",
       "      <td>96</td>\n",
       "      <td>85</td>\n",
       "      <td>82</td>\n",
       "      <td>...</td>\n",
       "      <td>71</td>\n",
       "      <td>52</td>\n",
       "      <td>58</td>\n",
       "      <td>46</td>\n",
       "      <td>74</td>\n",
       "      <td>40</td>\n",
       "      <td>-</td>\n",
       "      <td>-</td>\n",
       "      <td>30 臺北市</td>\n",
       "      <td>1 一般</td>\n",
       "    </tr>\n",
       "    <tr>\n",
       "      <th>3</th>\n",
       "      <td>0001</td>\n",
       "      <td>國立政治大學</td>\n",
       "      <td>D 日</td>\n",
       "      <td>M 碩士</td>\n",
       "      <td>3,998</td>\n",
       "      <td>1,854</td>\n",
       "      <td>2,144</td>\n",
       "      <td>624</td>\n",
       "      <td>742</td>\n",
       "      <td>632</td>\n",
       "      <td>...</td>\n",
       "      <td>-</td>\n",
       "      <td>-</td>\n",
       "      <td>-</td>\n",
       "      <td>-</td>\n",
       "      <td>-</td>\n",
       "      <td>-</td>\n",
       "      <td>-</td>\n",
       "      <td>-</td>\n",
       "      <td>30 臺北市</td>\n",
       "      <td>1 一般</td>\n",
       "    </tr>\n",
       "    <tr>\n",
       "      <th>4</th>\n",
       "      <td>0001</td>\n",
       "      <td>國立政治大學</td>\n",
       "      <td>D 日</td>\n",
       "      <td>B 學士</td>\n",
       "      <td>9,630</td>\n",
       "      <td>3,983</td>\n",
       "      <td>5,647</td>\n",
       "      <td>899</td>\n",
       "      <td>1,287</td>\n",
       "      <td>890</td>\n",
       "      <td>...</td>\n",
       "      <td>-</td>\n",
       "      <td>-</td>\n",
       "      <td>-</td>\n",
       "      <td>-</td>\n",
       "      <td>-</td>\n",
       "      <td>-</td>\n",
       "      <td>326</td>\n",
       "      <td>463</td>\n",
       "      <td>30 臺北市</td>\n",
       "      <td>1 一般</td>\n",
       "    </tr>\n",
       "  </tbody>\n",
       "</table>\n",
       "<p>5 rows × 25 columns</p>\n",
       "</div>"
      ],
      "text/plain": [
       "             大專校院校別學生數 Unnamed: 1 Unnamed: 2 Unnamed: 3 Unnamed: 4 Unnamed: 5  \\\n",
       "0  107 學年度 SY2018-2019        NaN        NaN        NaN        NaN        NaN   \n",
       "1                 學校代碼       學校名稱     日間∕進修別        等級別         總計        男生計   \n",
       "2                 0001     國立政治大學        D 日       D 博士        965        551   \n",
       "3                 0001     國立政治大學        D 日       M 碩士      3,998      1,854   \n",
       "4                 0001     國立政治大學        D 日       B 學士      9,630      3,983   \n",
       "\n",
       "  Unnamed: 6 Unnamed: 7 Unnamed: 8 Unnamed: 9     ...     Unnamed: 15  \\\n",
       "0        NaN        NaN        NaN        NaN     ...             NaN   \n",
       "1        女生計      一年級男生      一年級女生      二年級男生     ...           五年級男生   \n",
       "2        414         96         85         82     ...              71   \n",
       "3      2,144        624        742        632     ...               -   \n",
       "4      5,647        899      1,287        890     ...               -   \n",
       "\n",
       "  Unnamed: 16 Unnamed: 17 Unnamed: 18 Unnamed: 19 Unnamed: 20 Unnamed: 21  \\\n",
       "0         NaN         NaN         NaN         NaN         NaN         NaN   \n",
       "1       五年級女生       六年級男生       六年級女生       七年級男生       七年級女生       延修生男生   \n",
       "2          52          58          46          74          40           -   \n",
       "3           -           -           -           -           -           -   \n",
       "4           -           -           -           -           -         326   \n",
       "\n",
       "  Unnamed: 22 Unnamed: 23 Unnamed: 24  \n",
       "0         NaN         NaN         NaN  \n",
       "1       延修生女生        縣市名稱         體系別  \n",
       "2           -      30 臺北市        1 一般  \n",
       "3           -      30 臺北市        1 一般  \n",
       "4         463      30 臺北市        1 一般  \n",
       "\n",
       "[5 rows x 25 columns]"
      ]
     },
     "execution_count": 6,
     "metadata": {},
     "output_type": "execute_result"
    }
   ],
   "source": [
    "df.head()"
   ]
  },
  {
   "cell_type": "code",
   "execution_count": 14,
   "metadata": {},
   "outputs": [],
   "source": [
    "colnames = df.loc[1].values #這一列實際的值"
   ]
  },
  {
   "cell_type": "code",
   "execution_count": 15,
   "metadata": {},
   "outputs": [],
   "source": [
    "df = df[2:] #從第二列開始"
   ]
  },
  {
   "cell_type": "code",
   "execution_count": 20,
   "metadata": {},
   "outputs": [],
   "source": [
    "df.columns = colnames #改變column names"
   ]
  },
  {
   "cell_type": "code",
   "execution_count": 21,
   "metadata": {},
   "outputs": [
    {
     "data": {
      "text/html": [
       "<div>\n",
       "<style scoped>\n",
       "    .dataframe tbody tr th:only-of-type {\n",
       "        vertical-align: middle;\n",
       "    }\n",
       "\n",
       "    .dataframe tbody tr th {\n",
       "        vertical-align: top;\n",
       "    }\n",
       "\n",
       "    .dataframe thead th {\n",
       "        text-align: right;\n",
       "    }\n",
       "</style>\n",
       "<table border=\"1\" class=\"dataframe\">\n",
       "  <thead>\n",
       "    <tr style=\"text-align: right;\">\n",
       "      <th></th>\n",
       "      <th>學校代碼</th>\n",
       "      <th>學校名稱</th>\n",
       "      <th>日間∕進修別</th>\n",
       "      <th>等級別</th>\n",
       "      <th>總計</th>\n",
       "      <th>男生計</th>\n",
       "      <th>女生計</th>\n",
       "      <th>一年級男生</th>\n",
       "      <th>一年級女生</th>\n",
       "      <th>二年級男生</th>\n",
       "      <th>...</th>\n",
       "      <th>五年級男生</th>\n",
       "      <th>五年級女生</th>\n",
       "      <th>六年級男生</th>\n",
       "      <th>六年級女生</th>\n",
       "      <th>七年級男生</th>\n",
       "      <th>七年級女生</th>\n",
       "      <th>延修生男生</th>\n",
       "      <th>延修生女生</th>\n",
       "      <th>縣市名稱</th>\n",
       "      <th>體系別</th>\n",
       "    </tr>\n",
       "  </thead>\n",
       "  <tbody>\n",
       "    <tr>\n",
       "      <th>2</th>\n",
       "      <td>0001</td>\n",
       "      <td>國立政治大學</td>\n",
       "      <td>D 日</td>\n",
       "      <td>D 博士</td>\n",
       "      <td>965</td>\n",
       "      <td>551</td>\n",
       "      <td>414</td>\n",
       "      <td>96</td>\n",
       "      <td>85</td>\n",
       "      <td>82</td>\n",
       "      <td>...</td>\n",
       "      <td>71</td>\n",
       "      <td>52</td>\n",
       "      <td>58</td>\n",
       "      <td>46</td>\n",
       "      <td>74</td>\n",
       "      <td>40</td>\n",
       "      <td>-</td>\n",
       "      <td>-</td>\n",
       "      <td>30 臺北市</td>\n",
       "      <td>1 一般</td>\n",
       "    </tr>\n",
       "    <tr>\n",
       "      <th>3</th>\n",
       "      <td>0001</td>\n",
       "      <td>國立政治大學</td>\n",
       "      <td>D 日</td>\n",
       "      <td>M 碩士</td>\n",
       "      <td>3,998</td>\n",
       "      <td>1,854</td>\n",
       "      <td>2,144</td>\n",
       "      <td>624</td>\n",
       "      <td>742</td>\n",
       "      <td>632</td>\n",
       "      <td>...</td>\n",
       "      <td>-</td>\n",
       "      <td>-</td>\n",
       "      <td>-</td>\n",
       "      <td>-</td>\n",
       "      <td>-</td>\n",
       "      <td>-</td>\n",
       "      <td>-</td>\n",
       "      <td>-</td>\n",
       "      <td>30 臺北市</td>\n",
       "      <td>1 一般</td>\n",
       "    </tr>\n",
       "    <tr>\n",
       "      <th>4</th>\n",
       "      <td>0001</td>\n",
       "      <td>國立政治大學</td>\n",
       "      <td>D 日</td>\n",
       "      <td>B 學士</td>\n",
       "      <td>9,630</td>\n",
       "      <td>3,983</td>\n",
       "      <td>5,647</td>\n",
       "      <td>899</td>\n",
       "      <td>1,287</td>\n",
       "      <td>890</td>\n",
       "      <td>...</td>\n",
       "      <td>-</td>\n",
       "      <td>-</td>\n",
       "      <td>-</td>\n",
       "      <td>-</td>\n",
       "      <td>-</td>\n",
       "      <td>-</td>\n",
       "      <td>326</td>\n",
       "      <td>463</td>\n",
       "      <td>30 臺北市</td>\n",
       "      <td>1 一般</td>\n",
       "    </tr>\n",
       "    <tr>\n",
       "      <th>5</th>\n",
       "      <td>0001</td>\n",
       "      <td>國立政治大學</td>\n",
       "      <td>N 職</td>\n",
       "      <td>M 碩士</td>\n",
       "      <td>1,750</td>\n",
       "      <td>896</td>\n",
       "      <td>854</td>\n",
       "      <td>303</td>\n",
       "      <td>248</td>\n",
       "      <td>253</td>\n",
       "      <td>...</td>\n",
       "      <td>53</td>\n",
       "      <td>47</td>\n",
       "      <td>-</td>\n",
       "      <td>-</td>\n",
       "      <td>-</td>\n",
       "      <td>-</td>\n",
       "      <td>-</td>\n",
       "      <td>-</td>\n",
       "      <td>30 臺北市</td>\n",
       "      <td>1 一般</td>\n",
       "    </tr>\n",
       "    <tr>\n",
       "      <th>6</th>\n",
       "      <td>0002</td>\n",
       "      <td>國立清華大學</td>\n",
       "      <td>D 日</td>\n",
       "      <td>D 博士</td>\n",
       "      <td>1,664</td>\n",
       "      <td>1,221</td>\n",
       "      <td>443</td>\n",
       "      <td>225</td>\n",
       "      <td>99</td>\n",
       "      <td>201</td>\n",
       "      <td>...</td>\n",
       "      <td>158</td>\n",
       "      <td>50</td>\n",
       "      <td>112</td>\n",
       "      <td>43</td>\n",
       "      <td>168</td>\n",
       "      <td>58</td>\n",
       "      <td>-</td>\n",
       "      <td>-</td>\n",
       "      <td>18 新竹市</td>\n",
       "      <td>1 一般</td>\n",
       "    </tr>\n",
       "  </tbody>\n",
       "</table>\n",
       "<p>5 rows × 25 columns</p>\n",
       "</div>"
      ],
      "text/plain": [
       "   學校代碼    學校名稱 日間∕進修別   等級別     總計    男生計    女生計 一年級男生  一年級女生 二年級男生  ...   \\\n",
       "2  0001  國立政治大學    D 日  D 博士    965    551    414    96     85    82  ...    \n",
       "3  0001  國立政治大學    D 日  M 碩士  3,998  1,854  2,144   624    742   632  ...    \n",
       "4  0001  國立政治大學    D 日  B 學士  9,630  3,983  5,647   899  1,287   890  ...    \n",
       "5  0001  國立政治大學    N 職  M 碩士  1,750    896    854   303    248   253  ...    \n",
       "6  0002  國立清華大學    D 日  D 博士  1,664  1,221    443   225     99   201  ...    \n",
       "\n",
       "  五年級男生 五年級女生 六年級男生 六年級女生 七年級男生 七年級女生 延修生男生 延修生女生    縣市名稱   體系別  \n",
       "2    71    52    58    46    74    40     -     -  30 臺北市  1 一般  \n",
       "3     -     -     -     -     -     -     -     -  30 臺北市  1 一般  \n",
       "4     -     -     -     -     -     -   326   463  30 臺北市  1 一般  \n",
       "5    53    47     -     -     -     -     -     -  30 臺北市  1 一般  \n",
       "6   158    50   112    43   168    58     -     -  18 新竹市  1 一般  \n",
       "\n",
       "[5 rows x 25 columns]"
      ]
     },
     "execution_count": 21,
     "metadata": {},
     "output_type": "execute_result"
    }
   ],
   "source": [
    "df.head()"
   ]
  },
  {
   "cell_type": "code",
   "execution_count": 26,
   "metadata": {},
   "outputs": [],
   "source": [
    "undergraduate = df[(df['日間∕進修別'] == 'D 日') & (df['等級別'] == 'B 學士')]"
   ]
  },
  {
   "cell_type": "code",
   "execution_count": 29,
   "metadata": {},
   "outputs": [],
   "source": [
    "df2 = undergraduate.loc[:, '學校名稱':'女生計'].copy()"
   ]
  },
  {
   "cell_type": "code",
   "execution_count": 30,
   "metadata": {},
   "outputs": [],
   "source": [
    "import locale\n",
    "\n",
    "# atof\n",
    "#變成浮點數"
   ]
  },
  {
   "cell_type": "code",
   "execution_count": 31,
   "metadata": {},
   "outputs": [
    {
     "data": {
      "text/plain": [
       "'Chinese (Traditional)_Taiwan.950'"
      ]
     },
     "execution_count": 31,
     "metadata": {},
     "output_type": "execute_result"
    }
   ],
   "source": [
    "locale.setlocale(locale.LC_NUMERIC, \"\")"
   ]
  },
  {
   "cell_type": "code",
   "execution_count": 33,
   "metadata": {},
   "outputs": [],
   "source": [
    "df2['男生計'] = df2['男生計'].apply(locale.atof)"
   ]
  },
  {
   "cell_type": "code",
   "execution_count": 34,
   "metadata": {},
   "outputs": [],
   "source": [
    "df2['女生計'] = df2['女生計'].apply(locale.atof)"
   ]
  },
  {
   "cell_type": "code",
   "execution_count": 36,
   "metadata": {},
   "outputs": [],
   "source": [
    "df2['女男比例'] = df2.女生計 / df2.男生計"
   ]
  },
  {
   "cell_type": "code",
   "execution_count": 40,
   "metadata": {},
   "outputs": [],
   "source": [
    "df3 = df2.sort_values(by = ['女男比例'], ascending = False)"
   ]
  },
  {
   "cell_type": "code",
   "execution_count": 44,
   "metadata": {},
   "outputs": [
    {
     "data": {
      "text/plain": [
       "<matplotlib.axes._subplots.AxesSubplot at 0x1c591ab5320>"
      ]
     },
     "execution_count": 44,
     "metadata": {},
     "output_type": "execute_result"
    },
    {
     "name": "stderr",
     "output_type": "stream",
     "text": [
      "C:\\Users\\admin\\Anaconda3\\lib\\site-packages\\matplotlib\\font_manager.py:1328: UserWarning: findfont: Font family ['Noto Sans CJKTC'] not found. Falling back to DejaVu Sans\n",
      "  (prop.get_family(), self.defaultFamily[fontext]))\n"
     ]
    },
    {
     "data": {
      "image/png": "[encoded data removed]",
      "text/plain": [
       "<Figure size 432x288 with 1 Axes>"
      ]
     },
     "metadata": {},
     "output_type": "display_data"
    }
   ],
   "source": [
    "df3[:20].plot.bar(x = '學校名稱', y = ['女男比例'])"
   ]
  },
  {
   "cell_type": "markdown",
   "metadata": {},
   "source": [
    "### 大樂透"
   ]
  },
  {
   "cell_type": "code",
   "execution_count": 48,
   "metadata": {},
   "outputs": [],
   "source": [
    "df = pd.read_html(\"http://www.9800.com.tw/statistics.asp\")"
   ]
  },
  {
   "cell_type": "code",
   "execution_count": 49,
   "metadata": {},
   "outputs": [],
   "source": [
    "df_lot = df[3]"
   ]
  },
  {
   "cell_type": "code",
   "execution_count": 50,
   "metadata": {},
   "outputs": [],
   "source": [
    "columnNames = df_lot.loc[1].values"
   ]
  },
  {
   "cell_type": "code",
   "execution_count": 51,
   "metadata": {},
   "outputs": [],
   "source": [
    "df_lot = df_lot.loc[2:]"
   ]
  },
  {
   "cell_type": "code",
   "execution_count": 52,
   "metadata": {},
   "outputs": [],
   "source": [
    "df_lot.columns = columnNames"
   ]
  },
  {
   "cell_type": "code",
   "execution_count": 53,
   "metadata": {},
   "outputs": [
    {
     "data": {
      "text/html": [
       "<div>\n",
       "<style scoped>\n",
       "    .dataframe tbody tr th:only-of-type {\n",
       "        vertical-align: middle;\n",
       "    }\n",
       "\n",
       "    .dataframe tbody tr th {\n",
       "        vertical-align: top;\n",
       "    }\n",
       "\n",
       "    .dataframe thead th {\n",
       "        text-align: right;\n",
       "    }\n",
       "</style>\n",
       "<table border=\"1\" class=\"dataframe\">\n",
       "  <thead>\n",
       "    <tr style=\"text-align: right;\">\n",
       "      <th></th>\n",
       "      <th>期次</th>\n",
       "      <th>開獎日期</th>\n",
       "      <th>球號</th>\n",
       "      <th>特號</th>\n",
       "      <th>單雙</th>\n",
       "      <th>和值</th>\n",
       "      <th>均值</th>\n",
       "      <th>同尾</th>\n",
       "      <th>連號</th>\n",
       "      <th>首尾差</th>\n",
       "      <th>尾數和</th>\n",
       "      <th>首數和</th>\n",
       "      <th>nan</th>\n",
       "      <th>nan</th>\n",
       "      <th>nan</th>\n",
       "      <th>nan</th>\n",
       "      <th>nan</th>\n",
       "    </tr>\n",
       "  </thead>\n",
       "  <tbody>\n",
       "    <tr>\n",
       "      <th>2</th>\n",
       "      <td>108011</td>\n",
       "      <td>2019-02-02</td>\n",
       "      <td>02</td>\n",
       "      <td>07</td>\n",
       "      <td>22</td>\n",
       "      <td>35</td>\n",
       "      <td>46</td>\n",
       "      <td>49</td>\n",
       "      <td>41</td>\n",
       "      <td>3:3</td>\n",
       "      <td>161</td>\n",
       "      <td>26</td>\n",
       "      <td>2尾(2)</td>\n",
       "      <td>NaN</td>\n",
       "      <td>47.0</td>\n",
       "      <td>31.0</td>\n",
       "      <td>13.0</td>\n",
       "    </tr>\n",
       "    <tr>\n",
       "      <th>3</th>\n",
       "      <td>108012</td>\n",
       "      <td>2019-02-03</td>\n",
       "      <td>12</td>\n",
       "      <td>24</td>\n",
       "      <td>28</td>\n",
       "      <td>36</td>\n",
       "      <td>37</td>\n",
       "      <td>40</td>\n",
       "      <td>6</td>\n",
       "      <td>1:5</td>\n",
       "      <td>177</td>\n",
       "      <td>29</td>\n",
       "      <td>NaN</td>\n",
       "      <td>3637</td>\n",
       "      <td>28.0</td>\n",
       "      <td>27.0</td>\n",
       "      <td>15.0</td>\n",
       "    </tr>\n",
       "    <tr>\n",
       "      <th>4</th>\n",
       "      <td>108013</td>\n",
       "      <td>2019-02-04</td>\n",
       "      <td>06</td>\n",
       "      <td>08</td>\n",
       "      <td>24</td>\n",
       "      <td>32</td>\n",
       "      <td>34</td>\n",
       "      <td>36</td>\n",
       "      <td>49</td>\n",
       "      <td>0:6</td>\n",
       "      <td>140</td>\n",
       "      <td>23</td>\n",
       "      <td>4尾(2), 6尾(2)</td>\n",
       "      <td>NaN</td>\n",
       "      <td>30.0</td>\n",
       "      <td>30.0</td>\n",
       "      <td>11.0</td>\n",
       "    </tr>\n",
       "    <tr>\n",
       "      <th>5</th>\n",
       "      <td>108014</td>\n",
       "      <td>2019-02-05</td>\n",
       "      <td>13</td>\n",
       "      <td>18</td>\n",
       "      <td>30</td>\n",
       "      <td>34</td>\n",
       "      <td>45</td>\n",
       "      <td>49</td>\n",
       "      <td>33</td>\n",
       "      <td>3:3</td>\n",
       "      <td>189</td>\n",
       "      <td>31</td>\n",
       "      <td>NaN</td>\n",
       "      <td>NaN</td>\n",
       "      <td>36.0</td>\n",
       "      <td>29.0</td>\n",
       "      <td>16.0</td>\n",
       "    </tr>\n",
       "    <tr>\n",
       "      <th>6</th>\n",
       "      <td>108015</td>\n",
       "      <td>2019-02-06</td>\n",
       "      <td>17</td>\n",
       "      <td>23</td>\n",
       "      <td>28</td>\n",
       "      <td>29</td>\n",
       "      <td>32</td>\n",
       "      <td>39</td>\n",
       "      <td>12</td>\n",
       "      <td>4:2</td>\n",
       "      <td>168</td>\n",
       "      <td>28</td>\n",
       "      <td>9尾(2)</td>\n",
       "      <td>2829</td>\n",
       "      <td>22.0</td>\n",
       "      <td>38.0</td>\n",
       "      <td>13.0</td>\n",
       "    </tr>\n",
       "  </tbody>\n",
       "</table>\n",
       "</div>"
      ],
      "text/plain": [
       "       期次        開獎日期  球號  特號  單雙  和值  均值  同尾  連號  首尾差  尾數和 首數和           NaN  \\\n",
       "2  108011  2019-02-02  02  07  22  35  46  49  41  3:3  161  26         2尾(2)   \n",
       "3  108012  2019-02-03  12  24  28  36  37  40   6  1:5  177  29           NaN   \n",
       "4  108013  2019-02-04  06  08  24  32  34  36  49  0:6  140  23  4尾(2), 6尾(2)   \n",
       "5  108014  2019-02-05  13  18  30  34  45  49  33  3:3  189  31           NaN   \n",
       "6  108015  2019-02-06  17  23  28  29  32  39  12  4:2  168  28         9尾(2)   \n",
       "\n",
       "    NaN   NaN   NaN   NaN  \n",
       "2   NaN  47.0  31.0  13.0  \n",
       "3  3637  28.0  27.0  15.0  \n",
       "4   NaN  30.0  30.0  11.0  \n",
       "5   NaN  36.0  29.0  16.0  \n",
       "6  2829  22.0  38.0  13.0  "
      ]
     },
     "execution_count": 53,
     "metadata": {},
     "output_type": "execute_result"
    }
   ],
   "source": [
    "df_lot.head()"
   ]
  },
  {
   "cell_type": "code",
   "execution_count": null,
   "metadata": {},
   "outputs": [],
   "source": []
  }
 ],
 "metadata": {
  "kernelspec": {
   "display_name": "Python 3",
   "language": "python",
   "name": "python3"
  },
  "language_info": {
   "codemirror_mode": {
    "name": "ipython",
    "version": 3
   },
   "file_extension": ".py",
   "mimetype": "text/x-python",
   "name": "python",
   "nbconvert_exporter": "python",
   "pygments_lexer": "ipython3",
   "version": "3.6.5"
  }
 },
 "nbformat": 4,
 "nbformat_minor": 2
}

{
 "cells": [
  {
   "cell_type": "code",
   "execution_count": 6,
   "metadata": {},
   "outputs": [],
   "source": [
    "%matplotlib inline\n",
    "import numpy as np\n",
    "import pandas as pd\n",
    "import matplotlib.pyplot as plt\n",
    "#import matplotlib as mpl\n",
    "plt.rcParams['font.sans-serif'] = ['Noto Sans CJK TC']\n",
    "#[f.name for f in mpl.font_manager.fontManager.ttflist]"
   ]
  },
  {
   "cell_type": "code",
   "execution_count": 7,
   "metadata": {},
   "outputs": [],
   "source": [
    "CancerData = pd.read_csv('https://quality.data.gov.tw/dq_download_csv.php?nid=6399&md5_url=47a8a12deaa293e4e6f027f1f8e03a45')"
   ]
  },
  {
   "cell_type": "code",
   "execution_count": 8,
   "metadata": {},
   "outputs": [
    {
     "data": {
      "text/html": [
       "<div>\n",
       "<style scoped>\n",
       "    .dataframe tbody tr th:only-of-type {\n",
       "        vertical-align: middle;\n",
       "    }\n",
       "\n",
       "    .dataframe tbody tr th {\n",
       "        vertical-align: top;\n",
       "    }\n",
       "\n",
       "    .dataframe thead th {\n",
       "        text-align: right;\n",
       "    }\n",
       "</style>\n",
       "<table border=\"1\" class=\"dataframe\">\n",
       "  <thead>\n",
       "    <tr style=\"text-align: right;\">\n",
       "      <th></th>\n",
       "      <th>癌症診斷年</th>\n",
       "      <th>性別</th>\n",
       "      <th>縣市別</th>\n",
       "      <th>癌症別</th>\n",
       "      <th>年齡標準化發生率  WHO 2000世界標準人口 (每10萬人口)</th>\n",
       "      <th>癌症發生數</th>\n",
       "      <th>平均年齡</th>\n",
       "      <th>年齡中位數</th>\n",
       "      <th>粗率 (每10萬人口)</th>\n",
       "    </tr>\n",
       "  </thead>\n",
       "  <tbody>\n",
       "    <tr>\n",
       "      <th>0</th>\n",
       "      <td>1979</td>\n",
       "      <td>不分男女</td>\n",
       "      <td>台閩地區</td>\n",
       "      <td>口腔、口咽及下咽</td>\n",
       "      <td>3.40</td>\n",
       "      <td>439</td>\n",
       "      <td>53.37</td>\n",
       "      <td>55.0</td>\n",
       "      <td>2.50</td>\n",
       "    </tr>\n",
       "    <tr>\n",
       "      <th>1</th>\n",
       "      <td>1979</td>\n",
       "      <td>不分男女</td>\n",
       "      <td>台北市</td>\n",
       "      <td>口腔、口咽及下咽</td>\n",
       "      <td>3.85</td>\n",
       "      <td>65</td>\n",
       "      <td>52.00</td>\n",
       "      <td>55.0</td>\n",
       "      <td>2.96</td>\n",
       "    </tr>\n",
       "    <tr>\n",
       "      <th>2</th>\n",
       "      <td>1979</td>\n",
       "      <td>不分男女</td>\n",
       "      <td>台中市</td>\n",
       "      <td>口腔、口咽及下咽</td>\n",
       "      <td>4.16</td>\n",
       "      <td>45</td>\n",
       "      <td>54.18</td>\n",
       "      <td>55.0</td>\n",
       "      <td>2.88</td>\n",
       "    </tr>\n",
       "    <tr>\n",
       "      <th>3</th>\n",
       "      <td>1979</td>\n",
       "      <td>不分男女</td>\n",
       "      <td>台南市</td>\n",
       "      <td>口腔、口咽及下咽</td>\n",
       "      <td>1.58</td>\n",
       "      <td>19</td>\n",
       "      <td>55.79</td>\n",
       "      <td>57.0</td>\n",
       "      <td>1.24</td>\n",
       "    </tr>\n",
       "    <tr>\n",
       "      <th>4</th>\n",
       "      <td>1979</td>\n",
       "      <td>不分男女</td>\n",
       "      <td>高雄市</td>\n",
       "      <td>口腔、口咽及下咽</td>\n",
       "      <td>2.10</td>\n",
       "      <td>32</td>\n",
       "      <td>48.56</td>\n",
       "      <td>50.0</td>\n",
       "      <td>1.49</td>\n",
       "    </tr>\n",
       "  </tbody>\n",
       "</table>\n",
       "</div>"
      ],
      "text/plain": [
       "   癌症診斷年    性別   縣市別       癌症別  年齡標準化發生率  WHO 2000世界標準人口 (每10萬人口)  癌症發生數  \\\n",
       "0   1979  不分男女  台閩地區  口腔、口咽及下咽                               3.40    439   \n",
       "1   1979  不分男女   台北市  口腔、口咽及下咽                               3.85     65   \n",
       "2   1979  不分男女   台中市  口腔、口咽及下咽                               4.16     45   \n",
       "3   1979  不分男女   台南市  口腔、口咽及下咽                               1.58     19   \n",
       "4   1979  不分男女   高雄市  口腔、口咽及下咽                               2.10     32   \n",
       "\n",
       "    平均年齡  年齡中位數  粗率 (每10萬人口)  \n",
       "0  53.37   55.0         2.50  \n",
       "1  52.00   55.0         2.96  \n",
       "2  54.18   55.0         2.88  \n",
       "3  55.79   57.0         1.24  \n",
       "4  48.56   50.0         1.49  "
      ]
     },
     "execution_count": 8,
     "metadata": {},
     "output_type": "execute_result"
    }
   ],
   "source": [
    "CancerData.head()"
   ]
  },
  {
   "cell_type": "code",
   "execution_count": 17,
   "metadata": {},
   "outputs": [],
   "source": [
    "def CalculateCountyCancer(CountyName): \n",
    "    section = CancerData[CancerData['縣市別'] == CountyName]\n",
    "    group = section['癌症發生數'].groupby(section['癌症別'])\n",
    "\n",
    "    plt.figure(figsize=(20,10))\n",
    "    plt.bar(np.arange(len(group.count())),group.sum())\n",
    "    plt.xticks(np.arange(len(group.count())), list(group.indices), rotation=90, fontsize=20)\n",
    "    plt.ylabel('發生數', fontsize=30)\n",
    "    plt.title(CountyName + '各類別癌症發生數', fontsize=40)"
   ]
  },
  {
   "cell_type": "code",
   "execution_count": 39,
   "metadata": {},
   "outputs": [
    {
     "data": {
      "application/vnd.jupyter.widget-view+json": {
       "model_id": "7385db29b96b4f309492827f710eaaa1",
       "version_major": 2,
       "version_minor": 0
      },
      "text/plain": [
       "interactive(children=(Dropdown(description='CountyName', options=('台閩地區', '台北市', '新北市', '高雄市', '台中市', '台南市', '…"
      ]
     },
     "metadata": {},
     "output_type": "display_data"
    },
    {
     "data": {
      "text/plain": [
       "<function __main__.CalculateCountyCancer(CountyName)>"
      ]
     },
     "execution_count": 39,
     "metadata": {},
     "output_type": "execute_result"
    }
   ],
   "source": [
    "from ipywidgets import interact\n",
    "interact(CalculateCountyCancer, CountyName = pd.value_counts(CancerData['縣市別']).to_frame().index)"
   ]
  },
  {
   "cell_type": "code",
   "execution_count": null,
   "metadata": {},
   "outputs": [],
   "source": []
  }
 ],
 "metadata": {
  "kernelspec": {
   "display_name": "Python 3",
   "language": "python",
   "name": "python3"
  },
  "language_info": {
   "codemirror_mode": {
    "name": "ipython",
    "version": 3
   },
   "file_extension": ".py",
   "mimetype": "text/x-python",
   "name": "python",
   "nbconvert_exporter": "python",
   "pygments_lexer": "ipython3",
   "version": "3.6.5"
  }
 },
 "nbformat": 4,
 "nbformat_minor": 2
}

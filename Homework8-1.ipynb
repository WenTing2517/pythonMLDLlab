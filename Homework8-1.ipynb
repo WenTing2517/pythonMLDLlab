{
 "cells": [
  {
   "cell_type": "markdown",
   "metadata": {},
   "source": [
    "# 使用Functional API建構神經網路"
   ]
  },
  {
   "cell_type": "code",
   "execution_count": 1,
   "metadata": {},
   "outputs": [
    {
     "name": "stdout",
     "output_type": "stream",
     "text": [
      "env: KERAS_BACKEND=tensorflow\n"
     ]
    }
   ],
   "source": [
    "%env KERAS_BACKEND=tensorflow"
   ]
  },
  {
   "cell_type": "code",
   "execution_count": 1,
   "metadata": {},
   "outputs": [],
   "source": [
    "%matplotlib inline\n",
    "import numpy as np\n",
    "import matplotlib.pyplot as plt"
   ]
  },
  {
   "cell_type": "code",
   "execution_count": 2,
   "metadata": {},
   "outputs": [
    {
     "name": "stderr",
     "output_type": "stream",
     "text": [
      "Using TensorFlow backend.\n"
     ]
    }
   ],
   "source": [
    "# Keras functions\n",
    "from keras.models import Sequential\n",
    "from keras.layers import Dense, Activation\n",
    "from keras.optimizers import SGD\n",
    "\n",
    "# Keras dataset\n",
    "from keras.datasets import mnist\n",
    "\n",
    "# Keras utils\n",
    "from keras.utils import np_utils"
   ]
  },
  {
   "cell_type": "code",
   "execution_count": 3,
   "metadata": {},
   "outputs": [],
   "source": [
    "(x_train0, y_train0), (x_test0, y_test0) = mnist.load_data()"
   ]
  },
  {
   "cell_type": "code",
   "execution_count": 4,
   "metadata": {},
   "outputs": [],
   "source": [
    "# reshape data\n",
    "x_train = x_train0.reshape(60000, 784)\n",
    "x_test = x_test0.reshape(10000, 784)"
   ]
  },
  {
   "cell_type": "code",
   "execution_count": 5,
   "metadata": {},
   "outputs": [],
   "source": [
    "# normalize data\n",
    "x_train -= x_train.min()\n",
    "x_train = x_train/x_train.max()"
   ]
  },
  {
   "cell_type": "code",
   "execution_count": 6,
   "metadata": {},
   "outputs": [],
   "source": [
    "y_train = np_utils.to_categorical(y_train0, 10)\n",
    "y_test = np_utils.to_categorical(y_test0, 10)"
   ]
  },
  {
   "cell_type": "code",
   "execution_count": 7,
   "metadata": {},
   "outputs": [],
   "source": [
    "from keras.models import Model\n",
    "from keras.layers import Input\n",
    "from keras.layers import concatenate, add"
   ]
  },
  {
   "cell_type": "code",
   "execution_count": 8,
   "metadata": {},
   "outputs": [],
   "source": [
    "x = Input(shape=(784,))"
   ]
  },
  {
   "cell_type": "markdown",
   "metadata": {},
   "source": [
    "延續上次的作業，activation function 是用relu 跟 elu 比較好，所以用這兩個。\n",
    "神經網路結構示意圖："
   ]
  },
  {
   "cell_type": "markdown",
   "metadata": {},
   "source": [
    "<img src=\"homework8_1picture.png\" alt=\"drawing\" style=\"width: 400px;\"/>"
   ]
  },
  {
   "cell_type": "code",
   "execution_count": 16,
   "metadata": {},
   "outputs": [],
   "source": [
    "f_1 = Dense(10, activation='relu')\n",
    "f_2 = Dense(10, activation='relu')\n",
    "f_3 = Dense(5, activation='elu')\n",
    "f_4 = Dense(5, activation='elu')\n",
    "f_5 = Dense(5, activation='relu')\n",
    "f_6 = Dense(15, activation='relu')\n",
    "f_7 = Dense(10, activation='softmax')"
   ]
  },
  {
   "cell_type": "code",
   "execution_count": 17,
   "metadata": {},
   "outputs": [],
   "source": [
    "h_1 = f_1(x)\n",
    "h_2 = f_2(x)\n",
    "h_3 = f_3(h_1)\n",
    "h_4 = f_4(h_1)\n",
    "h_5 = f_5(h_2)\n",
    "u = concatenate([h_3, h_4, h_5])\n",
    "h_6 = f_6(u)\n",
    "y = f_7(h_6)\n"
   ]
  },
  {
   "cell_type": "code",
   "execution_count": 18,
   "metadata": {},
   "outputs": [
    {
     "name": "stdout",
     "output_type": "stream",
     "text": [
      "__________________________________________________________________________________________________\n",
      "Layer (type)                    Output Shape         Param #     Connected to                     \n",
      "==================================================================================================\n",
      "input_1 (InputLayer)            (None, 784)          0                                            \n",
      "__________________________________________________________________________________________________\n",
      "dense_8 (Dense)                 (None, 10)           7850        input_1[0][0]                    \n",
      "__________________________________________________________________________________________________\n",
      "dense_9 (Dense)                 (None, 10)           7850        input_1[0][0]                    \n",
      "__________________________________________________________________________________________________\n",
      "dense_10 (Dense)                (None, 5)            55          dense_8[0][0]                    \n",
      "__________________________________________________________________________________________________\n",
      "dense_11 (Dense)                (None, 5)            55          dense_8[0][0]                    \n",
      "__________________________________________________________________________________________________\n",
      "dense_12 (Dense)                (None, 5)            55          dense_9[0][0]                    \n",
      "__________________________________________________________________________________________________\n",
      "concatenate_2 (Concatenate)     (None, 15)           0           dense_10[0][0]                   \n",
      "                                                                 dense_11[0][0]                   \n",
      "                                                                 dense_12[0][0]                   \n",
      "__________________________________________________________________________________________________\n",
      "dense_13 (Dense)                (None, 15)           240         concatenate_2[0][0]              \n",
      "__________________________________________________________________________________________________\n",
      "dense_14 (Dense)                (None, 10)           160         dense_13[0][0]                   \n",
      "==================================================================================================\n",
      "Total params: 16,265\n",
      "Trainable params: 16,265\n",
      "Non-trainable params: 0\n",
      "__________________________________________________________________________________________________\n"
     ]
    }
   ],
   "source": [
    "model = Model(x, y)\n",
    "model.summary()"
   ]
  },
  {
   "cell_type": "code",
   "execution_count": 19,
   "metadata": {},
   "outputs": [
    {
     "name": "stdout",
     "output_type": "stream",
     "text": [
      "Train on 60000 samples, validate on 10000 samples\n",
      "Epoch 1/20\n",
      "60000/60000 [==============================] - 3s 55us/step - loss: 0.0283 - acc: 0.7929 - val_loss: 0.0229 - val_acc: 0.8851\n",
      "Epoch 2/20\n",
      "60000/60000 [==============================] - 2s 36us/step - loss: 0.0114 - acc: 0.9263 - val_loss: 0.0198 - val_acc: 0.9008\n",
      "Epoch 3/20\n",
      "60000/60000 [==============================] - 2s 35us/step - loss: 0.0094 - acc: 0.9395 - val_loss: 0.0179 - val_acc: 0.9102\n",
      "Epoch 4/20\n",
      "60000/60000 [==============================] - 2s 36us/step - loss: 0.0085 - acc: 0.9460 - val_loss: 0.0145 - val_acc: 0.9276\n",
      "Epoch 5/20\n",
      "60000/60000 [==============================] - 2s 36us/step - loss: 0.0078 - acc: 0.9504 - val_loss: 0.0146 - val_acc: 0.9271\n",
      "Epoch 6/20\n",
      "60000/60000 [==============================] - 2s 37us/step - loss: 0.0072 - acc: 0.9543 - val_loss: 0.0158 - val_acc: 0.9208\n",
      "Epoch 7/20\n",
      "60000/60000 [==============================] - 2s 36us/step - loss: 0.0068 - acc: 0.9573 - val_loss: 0.0159 - val_acc: 0.9205\n",
      "Epoch 8/20\n",
      "60000/60000 [==============================] - 2s 34us/step - loss: 0.0064 - acc: 0.9601 - val_loss: 0.0193 - val_acc: 0.9033\n",
      "Epoch 9/20\n",
      "60000/60000 [==============================] - 2s 36us/step - loss: 0.0061 - acc: 0.9623 - val_loss: 0.0143 - val_acc: 0.9286\n",
      "Epoch 10/20\n",
      "60000/60000 [==============================] - 2s 35us/step - loss: 0.0058 - acc: 0.9641 - val_loss: 0.0139 - val_acc: 0.9304\n",
      "Epoch 11/20\n",
      "60000/60000 [==============================] - 2s 35us/step - loss: 0.0056 - acc: 0.9656 - val_loss: 0.0119 - val_acc: 0.9401\n",
      "Epoch 12/20\n",
      "60000/60000 [==============================] - 2s 35us/step - loss: 0.0054 - acc: 0.9666 - val_loss: 0.0143 - val_acc: 0.9282\n",
      "Epoch 13/20\n",
      "60000/60000 [==============================] - 2s 35us/step - loss: 0.0052 - acc: 0.9685 - val_loss: 0.0134 - val_acc: 0.9329\n",
      "Epoch 14/20\n",
      "60000/60000 [==============================] - 2s 34us/step - loss: 0.0051 - acc: 0.9689 - val_loss: 0.0143 - val_acc: 0.9284\n",
      "Epoch 15/20\n",
      "60000/60000 [==============================] - 2s 37us/step - loss: 0.0049 - acc: 0.9697 - val_loss: 0.0135 - val_acc: 0.9322\n",
      "Epoch 16/20\n",
      "60000/60000 [==============================] - 2s 33us/step - loss: 0.0046 - acc: 0.9719 - val_loss: 0.0114 - val_acc: 0.9429\n",
      "Epoch 17/20\n",
      "60000/60000 [==============================] - 2s 33us/step - loss: 0.0047 - acc: 0.9714 - val_loss: 0.0117 - val_acc: 0.9413\n",
      "Epoch 18/20\n",
      "60000/60000 [==============================] - 2s 34us/step - loss: 0.0045 - acc: 0.9721 - val_loss: 0.0144 - val_acc: 0.9278\n",
      "Epoch 19/20\n",
      "60000/60000 [==============================] - 2s 32us/step - loss: 0.0044 - acc: 0.9737 - val_loss: 0.0133 - val_acc: 0.9335\n",
      "Epoch 20/20\n",
      "60000/60000 [==============================] - 2s 32us/step - loss: 0.0042 - acc: 0.9747 - val_loss: 0.0120 - val_acc: 0.9397\n"
     ]
    }
   ],
   "source": [
    "model.compile(loss='mse', optimizer = 'adam', metrics = ['accuracy'])\n",
    "reslut = model.fit(x_train, y_train, batch_size=100, epochs=20, verbose=1, validation_data=(x_test, y_test))"
   ]
  },
  {
   "cell_type": "code",
   "execution_count": 20,
   "metadata": {},
   "outputs": [
    {
     "name": "stdout",
     "output_type": "stream",
     "text": [
      "10000/10000 [==============================] - 0s 36us/step\n",
      "loss: 0.012034908439904351\n",
      "accuracy: 0.9397\n"
     ]
    }
   ],
   "source": [
    "score = model.evaluate(x_test, y_test)\n",
    "print('loss:', score[0])\n",
    "print('accuracy:', score[1])"
   ]
  },
  {
   "cell_type": "code",
   "execution_count": null,
   "metadata": {},
   "outputs": [],
   "source": []
  }
 ],
 "metadata": {
  "kernelspec": {
   "display_name": "Python 3",
   "language": "python",
   "name": "python3"
  },
  "language_info": {
   "codemirror_mode": {
    "name": "ipython",
    "version": 3
   },
   "file_extension": ".py",
   "mimetype": "text/x-python",
   "name": "python",
   "nbconvert_exporter": "python",
   "pygments_lexer": "ipython3",
   "version": "3.6.5"
  }
 },
 "nbformat": 4,
 "nbformat_minor": 2
}
